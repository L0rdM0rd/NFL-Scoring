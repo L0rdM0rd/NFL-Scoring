{
 "cells": [
  {
   "cell_type": "code",
   "execution_count": 33,
   "metadata": {
    "collapsed": false
   },
   "outputs": [],
   "source": [
    "import pandas as pd\n",
    "import numpy as np\n",
    "import matplotlib.pyplot as plt\n",
    "import seaborn as sns\n",
    "from sklearn import preprocessing\n",
    "from sklearn.model_selection import StratifiedShuffleSplit, cross_val_score, cross_val_predict, GridSearchCV\n",
    "from sklearn.decomposition import PCA\n",
    "from sklearn.linear_model import LogisticRegression\n",
    "from sklearn import svm\n",
    "from sklearn.ensemble import RandomForestClassifier\n",
    "from sklearn.neighbors import KNeighborsClassifier\n",
    "from sklearn.naive_bayes import GaussianNB\n",
    "from sklearn.tree import DecisionTreeClassifier\n",
    "from sklearn import metrics"
   ]
  },
  {
   "cell_type": "code",
   "execution_count": 34,
   "metadata": {
    "collapsed": false
   },
   "outputs": [],
   "source": [
    "#skill position and matchup data for 2016-2017 nfl season\n",
    "\n",
    "receivers = pd.read_csv('WKReceiving2016.csv')\n",
    "rz_receiving = pd.read_csv('RZReceiving2016.csv')\n",
    "team_off = pd.read_csv('TeamOff2016.csv')\n",
    "tight_ends = pd.read_csv('WKTE2016.csv')\n",
    "running_backs = pd.read_csv('WKRB2016.csv')\n",
    "pass_def = pd.read_csv('PassD16.csv')\n",
    "run_def = pd.read_csv('RunD16.csv')"
   ]
  },
  {
   "cell_type": "code",
   "execution_count": 35,
   "metadata": {
    "collapsed": false
   },
   "outputs": [
    {
     "data": {
      "text/html": [
       "<div>\n",
       "<style>\n",
       "    .dataframe thead tr:only-child th {\n",
       "        text-align: right;\n",
       "    }\n",
       "\n",
       "    .dataframe thead th {\n",
       "        text-align: left;\n",
       "    }\n",
       "\n",
       "    .dataframe tbody tr th {\n",
       "        vertical-align: top;\n",
       "    }\n",
       "</style>\n",
       "<table border=\"1\" class=\"dataframe\">\n",
       "  <thead>\n",
       "    <tr style=\"text-align: right;\">\n",
       "      <th></th>\n",
       "      <th>Player</th>\n",
       "      <th>Team</th>\n",
       "      <th>Opp</th>\n",
       "      <th>Pos</th>\n",
       "      <th>G</th>\n",
       "      <th>Tgt</th>\n",
       "      <th>Rec</th>\n",
       "      <th>Yds</th>\n",
       "      <th>TD</th>\n",
       "      <th>Score</th>\n",
       "      <th>C %</th>\n",
       "      <th>aDOT</th>\n",
       "      <th>YPR</th>\n",
       "      <th>YPT</th>\n",
       "      <th>YAC</th>\n",
       "      <th>FPTS</th>\n",
       "    </tr>\n",
       "  </thead>\n",
       "  <tbody>\n",
       "    <tr>\n",
       "      <th>0</th>\n",
       "      <td>Jermaine Gresham</td>\n",
       "      <td>ARZ</td>\n",
       "      <td>NE</td>\n",
       "      <td>TE</td>\n",
       "      <td>1</td>\n",
       "      <td>4</td>\n",
       "      <td>4</td>\n",
       "      <td>41</td>\n",
       "      <td>0</td>\n",
       "      <td>0</td>\n",
       "      <td>100</td>\n",
       "      <td>8.5</td>\n",
       "      <td>10.3</td>\n",
       "      <td>10.3</td>\n",
       "      <td>1.8</td>\n",
       "      <td>8.1</td>\n",
       "    </tr>\n",
       "    <tr>\n",
       "      <th>1</th>\n",
       "      <td>Darren Fells</td>\n",
       "      <td>ARZ</td>\n",
       "      <td>TB</td>\n",
       "      <td>TE</td>\n",
       "      <td>2</td>\n",
       "      <td>5</td>\n",
       "      <td>4</td>\n",
       "      <td>31</td>\n",
       "      <td>0</td>\n",
       "      <td>0</td>\n",
       "      <td>80</td>\n",
       "      <td>3.6</td>\n",
       "      <td>7.8</td>\n",
       "      <td>6.2</td>\n",
       "      <td>6.3</td>\n",
       "      <td>7.1</td>\n",
       "    </tr>\n",
       "    <tr>\n",
       "      <th>2</th>\n",
       "      <td>Troy Niklas</td>\n",
       "      <td>ARZ</td>\n",
       "      <td>TB</td>\n",
       "      <td>TE</td>\n",
       "      <td>2</td>\n",
       "      <td>1</td>\n",
       "      <td>0</td>\n",
       "      <td>0</td>\n",
       "      <td>0</td>\n",
       "      <td>0</td>\n",
       "      <td>-</td>\n",
       "      <td>2</td>\n",
       "      <td>-</td>\n",
       "      <td>-</td>\n",
       "      <td>-</td>\n",
       "      <td>0.0</td>\n",
       "    </tr>\n",
       "    <tr>\n",
       "      <th>3</th>\n",
       "      <td>Jermaine Gresham</td>\n",
       "      <td>ARZ</td>\n",
       "      <td>TB</td>\n",
       "      <td>TE</td>\n",
       "      <td>2</td>\n",
       "      <td>1</td>\n",
       "      <td>0</td>\n",
       "      <td>0</td>\n",
       "      <td>0</td>\n",
       "      <td>0</td>\n",
       "      <td>-</td>\n",
       "      <td>18</td>\n",
       "      <td>-</td>\n",
       "      <td>-</td>\n",
       "      <td>-</td>\n",
       "      <td>0.0</td>\n",
       "    </tr>\n",
       "    <tr>\n",
       "      <th>4</th>\n",
       "      <td>Darren Fells</td>\n",
       "      <td>ARZ</td>\n",
       "      <td>BUF</td>\n",
       "      <td>TE</td>\n",
       "      <td>3</td>\n",
       "      <td>2</td>\n",
       "      <td>2</td>\n",
       "      <td>15</td>\n",
       "      <td>0</td>\n",
       "      <td>0</td>\n",
       "      <td>100</td>\n",
       "      <td>2</td>\n",
       "      <td>7.5</td>\n",
       "      <td>7.5</td>\n",
       "      <td>5.5</td>\n",
       "      <td>3.5</td>\n",
       "    </tr>\n",
       "    <tr>\n",
       "      <th>5</th>\n",
       "      <td>Troy Niklas</td>\n",
       "      <td>ARZ</td>\n",
       "      <td>BUF</td>\n",
       "      <td>TE</td>\n",
       "      <td>3</td>\n",
       "      <td>1</td>\n",
       "      <td>1</td>\n",
       "      <td>0</td>\n",
       "      <td>0</td>\n",
       "      <td>0</td>\n",
       "      <td>100</td>\n",
       "      <td>-1</td>\n",
       "      <td>-</td>\n",
       "      <td>-</td>\n",
       "      <td>1</td>\n",
       "      <td>1.0</td>\n",
       "    </tr>\n",
       "    <tr>\n",
       "      <th>6</th>\n",
       "      <td>Darren Fells</td>\n",
       "      <td>ARZ</td>\n",
       "      <td>LA</td>\n",
       "      <td>TE</td>\n",
       "      <td>4</td>\n",
       "      <td>2</td>\n",
       "      <td>2</td>\n",
       "      <td>7</td>\n",
       "      <td>0</td>\n",
       "      <td>0</td>\n",
       "      <td>100</td>\n",
       "      <td>3</td>\n",
       "      <td>3.5</td>\n",
       "      <td>3.5</td>\n",
       "      <td>0.5</td>\n",
       "      <td>2.7</td>\n",
       "    </tr>\n",
       "    <tr>\n",
       "      <th>7</th>\n",
       "      <td>Jermaine Gresham</td>\n",
       "      <td>ARZ</td>\n",
       "      <td>LA</td>\n",
       "      <td>TE</td>\n",
       "      <td>4</td>\n",
       "      <td>1</td>\n",
       "      <td>0</td>\n",
       "      <td>0</td>\n",
       "      <td>0</td>\n",
       "      <td>0</td>\n",
       "      <td>-</td>\n",
       "      <td>11</td>\n",
       "      <td>-</td>\n",
       "      <td>-</td>\n",
       "      <td>-</td>\n",
       "      <td>0.0</td>\n",
       "    </tr>\n",
       "    <tr>\n",
       "      <th>8</th>\n",
       "      <td>Jermaine Gresham</td>\n",
       "      <td>ARZ</td>\n",
       "      <td>SF</td>\n",
       "      <td>TE</td>\n",
       "      <td>5</td>\n",
       "      <td>1</td>\n",
       "      <td>1</td>\n",
       "      <td>4</td>\n",
       "      <td>0</td>\n",
       "      <td>0</td>\n",
       "      <td>100</td>\n",
       "      <td>3</td>\n",
       "      <td>4</td>\n",
       "      <td>4</td>\n",
       "      <td>1</td>\n",
       "      <td>1.4</td>\n",
       "    </tr>\n",
       "    <tr>\n",
       "      <th>9</th>\n",
       "      <td>Hakeem Valles</td>\n",
       "      <td>ARZ</td>\n",
       "      <td>SF</td>\n",
       "      <td>TE</td>\n",
       "      <td>5</td>\n",
       "      <td>1</td>\n",
       "      <td>0</td>\n",
       "      <td>0</td>\n",
       "      <td>0</td>\n",
       "      <td>0</td>\n",
       "      <td>-</td>\n",
       "      <td>12</td>\n",
       "      <td>-</td>\n",
       "      <td>-</td>\n",
       "      <td>-</td>\n",
       "      <td>0.0</td>\n",
       "    </tr>\n",
       "  </tbody>\n",
       "</table>\n",
       "</div>"
      ],
      "text/plain": [
       "             Player Team  Opp Pos  G  Tgt  Rec  Yds  TD  Score  C % aDOT  \\\n",
       "0  Jermaine Gresham  ARZ   NE  TE  1    4    4   41   0      0  100  8.5   \n",
       "1      Darren Fells  ARZ   TB  TE  2    5    4   31   0      0   80  3.6   \n",
       "2       Troy Niklas  ARZ   TB  TE  2    1    0    0   0      0    -    2   \n",
       "3  Jermaine Gresham  ARZ   TB  TE  2    1    0    0   0      0    -   18   \n",
       "4      Darren Fells  ARZ  BUF  TE  3    2    2   15   0      0  100    2   \n",
       "5       Troy Niklas  ARZ  BUF  TE  3    1    1    0   0      0  100   -1   \n",
       "6      Darren Fells  ARZ   LA  TE  4    2    2    7   0      0  100    3   \n",
       "7  Jermaine Gresham  ARZ   LA  TE  4    1    0    0   0      0    -   11   \n",
       "8  Jermaine Gresham  ARZ   SF  TE  5    1    1    4   0      0  100    3   \n",
       "9     Hakeem Valles  ARZ   SF  TE  5    1    0    0   0      0    -   12   \n",
       "\n",
       "    YPR   YPT  YAC  FPTS  \n",
       "0  10.3  10.3  1.8   8.1  \n",
       "1   7.8   6.2  6.3   7.1  \n",
       "2     -     -    -   0.0  \n",
       "3     -     -    -   0.0  \n",
       "4   7.5   7.5  5.5   3.5  \n",
       "5     -     -    1   1.0  \n",
       "6   3.5   3.5  0.5   2.7  \n",
       "7     -     -    -   0.0  \n",
       "8     4     4    1   1.4  \n",
       "9     -     -    -   0.0  "
      ]
     },
     "execution_count": 35,
     "metadata": {},
     "output_type": "execute_result"
    }
   ],
   "source": [
    "#Concat positional data\n",
    "\n",
    "frames = [receivers, tight_ends, running_backs]\n",
    "rec = pd.concat(frames)\n",
    "rec[rec['Pos'] =='TE'].head(10)"
   ]
  },
  {
   "cell_type": "code",
   "execution_count": 36,
   "metadata": {
    "collapsed": false,
    "scrolled": true
   },
   "outputs": [
    {
     "data": {
      "text/html": [
       "<div>\n",
       "<style>\n",
       "    .dataframe thead tr:only-child th {\n",
       "        text-align: right;\n",
       "    }\n",
       "\n",
       "    .dataframe thead th {\n",
       "        text-align: left;\n",
       "    }\n",
       "\n",
       "    .dataframe tbody tr th {\n",
       "        vertical-align: top;\n",
       "    }\n",
       "</style>\n",
       "<table border=\"1\" class=\"dataframe\">\n",
       "  <thead>\n",
       "    <tr style=\"text-align: right;\">\n",
       "      <th></th>\n",
       "      <th>Player</th>\n",
       "      <th>Team</th>\n",
       "      <th>Opp</th>\n",
       "      <th>Pos</th>\n",
       "      <th>G</th>\n",
       "      <th>Tgt</th>\n",
       "      <th>Rec</th>\n",
       "      <th>Yds</th>\n",
       "      <th>TD</th>\n",
       "      <th>Score</th>\n",
       "      <th>C %</th>\n",
       "      <th>aDOT</th>\n",
       "      <th>YPR</th>\n",
       "      <th>YPT</th>\n",
       "      <th>YAC</th>\n",
       "      <th>FPTS</th>\n",
       "    </tr>\n",
       "  </thead>\n",
       "  <tbody>\n",
       "    <tr>\n",
       "      <th>0</th>\n",
       "      <td>Jermaine Gresham</td>\n",
       "      <td>ARZ</td>\n",
       "      <td>NE</td>\n",
       "      <td>TE</td>\n",
       "      <td>1</td>\n",
       "      <td>4</td>\n",
       "      <td>4</td>\n",
       "      <td>41</td>\n",
       "      <td>0</td>\n",
       "      <td>0</td>\n",
       "      <td>100</td>\n",
       "      <td>8.5</td>\n",
       "      <td>10.3</td>\n",
       "      <td>10.3</td>\n",
       "      <td>1.8</td>\n",
       "      <td>8.1</td>\n",
       "    </tr>\n",
       "    <tr>\n",
       "      <th>1</th>\n",
       "      <td>Darren Fells</td>\n",
       "      <td>ARZ</td>\n",
       "      <td>TB</td>\n",
       "      <td>TE</td>\n",
       "      <td>2</td>\n",
       "      <td>5</td>\n",
       "      <td>4</td>\n",
       "      <td>31</td>\n",
       "      <td>0</td>\n",
       "      <td>0</td>\n",
       "      <td>80</td>\n",
       "      <td>3.6</td>\n",
       "      <td>7.8</td>\n",
       "      <td>6.2</td>\n",
       "      <td>6.3</td>\n",
       "      <td>7.1</td>\n",
       "    </tr>\n",
       "    <tr>\n",
       "      <th>2</th>\n",
       "      <td>Troy Niklas</td>\n",
       "      <td>ARZ</td>\n",
       "      <td>TB</td>\n",
       "      <td>TE</td>\n",
       "      <td>2</td>\n",
       "      <td>1</td>\n",
       "      <td>0</td>\n",
       "      <td>0</td>\n",
       "      <td>0</td>\n",
       "      <td>0</td>\n",
       "      <td>0</td>\n",
       "      <td>2</td>\n",
       "      <td>0</td>\n",
       "      <td>0</td>\n",
       "      <td>0</td>\n",
       "      <td>0.0</td>\n",
       "    </tr>\n",
       "    <tr>\n",
       "      <th>3</th>\n",
       "      <td>Jermaine Gresham</td>\n",
       "      <td>ARZ</td>\n",
       "      <td>TB</td>\n",
       "      <td>TE</td>\n",
       "      <td>2</td>\n",
       "      <td>1</td>\n",
       "      <td>0</td>\n",
       "      <td>0</td>\n",
       "      <td>0</td>\n",
       "      <td>0</td>\n",
       "      <td>0</td>\n",
       "      <td>18</td>\n",
       "      <td>0</td>\n",
       "      <td>0</td>\n",
       "      <td>0</td>\n",
       "      <td>0.0</td>\n",
       "    </tr>\n",
       "    <tr>\n",
       "      <th>4</th>\n",
       "      <td>Darren Fells</td>\n",
       "      <td>ARZ</td>\n",
       "      <td>BUF</td>\n",
       "      <td>TE</td>\n",
       "      <td>3</td>\n",
       "      <td>2</td>\n",
       "      <td>2</td>\n",
       "      <td>15</td>\n",
       "      <td>0</td>\n",
       "      <td>0</td>\n",
       "      <td>100</td>\n",
       "      <td>2</td>\n",
       "      <td>7.5</td>\n",
       "      <td>7.5</td>\n",
       "      <td>5.5</td>\n",
       "      <td>3.5</td>\n",
       "    </tr>\n",
       "    <tr>\n",
       "      <th>5</th>\n",
       "      <td>Troy Niklas</td>\n",
       "      <td>ARZ</td>\n",
       "      <td>BUF</td>\n",
       "      <td>TE</td>\n",
       "      <td>3</td>\n",
       "      <td>1</td>\n",
       "      <td>1</td>\n",
       "      <td>0</td>\n",
       "      <td>0</td>\n",
       "      <td>0</td>\n",
       "      <td>100</td>\n",
       "      <td>-1</td>\n",
       "      <td>0</td>\n",
       "      <td>0</td>\n",
       "      <td>1</td>\n",
       "      <td>1.0</td>\n",
       "    </tr>\n",
       "    <tr>\n",
       "      <th>6</th>\n",
       "      <td>Darren Fells</td>\n",
       "      <td>ARZ</td>\n",
       "      <td>LA</td>\n",
       "      <td>TE</td>\n",
       "      <td>4</td>\n",
       "      <td>2</td>\n",
       "      <td>2</td>\n",
       "      <td>7</td>\n",
       "      <td>0</td>\n",
       "      <td>0</td>\n",
       "      <td>100</td>\n",
       "      <td>3</td>\n",
       "      <td>3.5</td>\n",
       "      <td>3.5</td>\n",
       "      <td>0.5</td>\n",
       "      <td>2.7</td>\n",
       "    </tr>\n",
       "    <tr>\n",
       "      <th>7</th>\n",
       "      <td>Jermaine Gresham</td>\n",
       "      <td>ARZ</td>\n",
       "      <td>LA</td>\n",
       "      <td>TE</td>\n",
       "      <td>4</td>\n",
       "      <td>1</td>\n",
       "      <td>0</td>\n",
       "      <td>0</td>\n",
       "      <td>0</td>\n",
       "      <td>0</td>\n",
       "      <td>0</td>\n",
       "      <td>11</td>\n",
       "      <td>0</td>\n",
       "      <td>0</td>\n",
       "      <td>0</td>\n",
       "      <td>0.0</td>\n",
       "    </tr>\n",
       "    <tr>\n",
       "      <th>8</th>\n",
       "      <td>Jermaine Gresham</td>\n",
       "      <td>ARZ</td>\n",
       "      <td>SF</td>\n",
       "      <td>TE</td>\n",
       "      <td>5</td>\n",
       "      <td>1</td>\n",
       "      <td>1</td>\n",
       "      <td>4</td>\n",
       "      <td>0</td>\n",
       "      <td>0</td>\n",
       "      <td>100</td>\n",
       "      <td>3</td>\n",
       "      <td>4</td>\n",
       "      <td>4</td>\n",
       "      <td>1</td>\n",
       "      <td>1.4</td>\n",
       "    </tr>\n",
       "    <tr>\n",
       "      <th>9</th>\n",
       "      <td>Hakeem Valles</td>\n",
       "      <td>ARZ</td>\n",
       "      <td>SF</td>\n",
       "      <td>TE</td>\n",
       "      <td>5</td>\n",
       "      <td>1</td>\n",
       "      <td>0</td>\n",
       "      <td>0</td>\n",
       "      <td>0</td>\n",
       "      <td>0</td>\n",
       "      <td>0</td>\n",
       "      <td>12</td>\n",
       "      <td>0</td>\n",
       "      <td>0</td>\n",
       "      <td>0</td>\n",
       "      <td>0.0</td>\n",
       "    </tr>\n",
       "  </tbody>\n",
       "</table>\n",
       "</div>"
      ],
      "text/plain": [
       "             Player Team  Opp Pos  G  Tgt  Rec  Yds  TD  Score  C % aDOT  \\\n",
       "0  Jermaine Gresham  ARZ   NE  TE  1    4    4   41   0      0  100  8.5   \n",
       "1      Darren Fells  ARZ   TB  TE  2    5    4   31   0      0   80  3.6   \n",
       "2       Troy Niklas  ARZ   TB  TE  2    1    0    0   0      0    0    2   \n",
       "3  Jermaine Gresham  ARZ   TB  TE  2    1    0    0   0      0    0   18   \n",
       "4      Darren Fells  ARZ  BUF  TE  3    2    2   15   0      0  100    2   \n",
       "5       Troy Niklas  ARZ  BUF  TE  3    1    1    0   0      0  100   -1   \n",
       "6      Darren Fells  ARZ   LA  TE  4    2    2    7   0      0  100    3   \n",
       "7  Jermaine Gresham  ARZ   LA  TE  4    1    0    0   0      0    0   11   \n",
       "8  Jermaine Gresham  ARZ   SF  TE  5    1    1    4   0      0  100    3   \n",
       "9     Hakeem Valles  ARZ   SF  TE  5    1    0    0   0      0    0   12   \n",
       "\n",
       "    YPR   YPT  YAC  FPTS  \n",
       "0  10.3  10.3  1.8   8.1  \n",
       "1   7.8   6.2  6.3   7.1  \n",
       "2     0     0    0   0.0  \n",
       "3     0     0    0   0.0  \n",
       "4   7.5   7.5  5.5   3.5  \n",
       "5     0     0    1   1.0  \n",
       "6   3.5   3.5  0.5   2.7  \n",
       "7     0     0    0   0.0  \n",
       "8     4     4    1   1.4  \n",
       "9     0     0    0   0.0  "
      ]
     },
     "execution_count": 36,
     "metadata": {},
     "output_type": "execute_result"
    }
   ],
   "source": [
    "#data cleaning\n",
    "#replace missing data with zero\n",
    "\n",
    "mask = rec['YAC'] == '-'\n",
    "column_name = 'YAC'\n",
    "rec.loc[mask, column_name] = 0\n",
    "\n",
    "mask = rec['YPT'] == '-'\n",
    "column_name = 'YPT'\n",
    "rec.loc[mask, column_name] = 0\n",
    "\n",
    "mask = rec['YPR'] == '-'\n",
    "column_name = 'YPR'\n",
    "rec.loc[mask, column_name] = 0\n",
    "\n",
    "mask = rec['C %'] == '-'\n",
    "column_name = 'C %'\n",
    "rec.loc[mask, column_name] = 0\n",
    "\n",
    "mask = rec['aDOT'] == '-'\n",
    "column_name = 'aDOT'\n",
    "rec.loc[mask, column_name] = 0\n",
    "\n",
    "rec[rec['Pos'] =='TE'].head(10)"
   ]
  },
  {
   "cell_type": "code",
   "execution_count": 37,
   "metadata": {
    "collapsed": false
   },
   "outputs": [
    {
     "data": {
      "text/html": [
       "<div>\n",
       "<style>\n",
       "    .dataframe thead tr:only-child th {\n",
       "        text-align: right;\n",
       "    }\n",
       "\n",
       "    .dataframe thead th {\n",
       "        text-align: left;\n",
       "    }\n",
       "\n",
       "    .dataframe tbody tr th {\n",
       "        vertical-align: top;\n",
       "    }\n",
       "</style>\n",
       "<table border=\"1\" class=\"dataframe\">\n",
       "  <thead>\n",
       "    <tr style=\"text-align: right;\">\n",
       "      <th></th>\n",
       "      <th>Player</th>\n",
       "      <th>Team</th>\n",
       "      <th>Opp</th>\n",
       "      <th>Pos</th>\n",
       "      <th>G</th>\n",
       "      <th>Tgt</th>\n",
       "      <th>Rec</th>\n",
       "      <th>Yds</th>\n",
       "      <th>TD</th>\n",
       "      <th>Score</th>\n",
       "      <th>C %</th>\n",
       "      <th>aDOT</th>\n",
       "      <th>YPR</th>\n",
       "      <th>YPT</th>\n",
       "      <th>YAC</th>\n",
       "      <th>FPTS</th>\n",
       "    </tr>\n",
       "  </thead>\n",
       "  <tbody>\n",
       "    <tr>\n",
       "      <th>0</th>\n",
       "      <td>Jermaine Gresham</td>\n",
       "      <td>ARZ</td>\n",
       "      <td>NE</td>\n",
       "      <td>TE</td>\n",
       "      <td>1</td>\n",
       "      <td>4</td>\n",
       "      <td>4</td>\n",
       "      <td>41</td>\n",
       "      <td>0</td>\n",
       "      <td>0</td>\n",
       "      <td>100.0</td>\n",
       "      <td>8.5</td>\n",
       "      <td>10.3</td>\n",
       "      <td>10.3</td>\n",
       "      <td>1.8</td>\n",
       "      <td>8.1</td>\n",
       "    </tr>\n",
       "    <tr>\n",
       "      <th>1</th>\n",
       "      <td>Darren Fells</td>\n",
       "      <td>ARZ</td>\n",
       "      <td>TB</td>\n",
       "      <td>TE</td>\n",
       "      <td>2</td>\n",
       "      <td>5</td>\n",
       "      <td>4</td>\n",
       "      <td>31</td>\n",
       "      <td>0</td>\n",
       "      <td>0</td>\n",
       "      <td>80.0</td>\n",
       "      <td>3.6</td>\n",
       "      <td>7.8</td>\n",
       "      <td>6.2</td>\n",
       "      <td>6.3</td>\n",
       "      <td>7.1</td>\n",
       "    </tr>\n",
       "    <tr>\n",
       "      <th>2</th>\n",
       "      <td>Troy Niklas</td>\n",
       "      <td>ARZ</td>\n",
       "      <td>TB</td>\n",
       "      <td>TE</td>\n",
       "      <td>2</td>\n",
       "      <td>1</td>\n",
       "      <td>0</td>\n",
       "      <td>0</td>\n",
       "      <td>0</td>\n",
       "      <td>0</td>\n",
       "      <td>0.0</td>\n",
       "      <td>2.0</td>\n",
       "      <td>0.0</td>\n",
       "      <td>0.0</td>\n",
       "      <td>0.0</td>\n",
       "      <td>0.0</td>\n",
       "    </tr>\n",
       "    <tr>\n",
       "      <th>3</th>\n",
       "      <td>Jermaine Gresham</td>\n",
       "      <td>ARZ</td>\n",
       "      <td>TB</td>\n",
       "      <td>TE</td>\n",
       "      <td>2</td>\n",
       "      <td>1</td>\n",
       "      <td>0</td>\n",
       "      <td>0</td>\n",
       "      <td>0</td>\n",
       "      <td>0</td>\n",
       "      <td>0.0</td>\n",
       "      <td>18.0</td>\n",
       "      <td>0.0</td>\n",
       "      <td>0.0</td>\n",
       "      <td>0.0</td>\n",
       "      <td>0.0</td>\n",
       "    </tr>\n",
       "    <tr>\n",
       "      <th>4</th>\n",
       "      <td>Darren Fells</td>\n",
       "      <td>ARZ</td>\n",
       "      <td>BUF</td>\n",
       "      <td>TE</td>\n",
       "      <td>3</td>\n",
       "      <td>2</td>\n",
       "      <td>2</td>\n",
       "      <td>15</td>\n",
       "      <td>0</td>\n",
       "      <td>0</td>\n",
       "      <td>100.0</td>\n",
       "      <td>2.0</td>\n",
       "      <td>7.5</td>\n",
       "      <td>7.5</td>\n",
       "      <td>5.5</td>\n",
       "      <td>3.5</td>\n",
       "    </tr>\n",
       "    <tr>\n",
       "      <th>5</th>\n",
       "      <td>Troy Niklas</td>\n",
       "      <td>ARZ</td>\n",
       "      <td>BUF</td>\n",
       "      <td>TE</td>\n",
       "      <td>3</td>\n",
       "      <td>1</td>\n",
       "      <td>1</td>\n",
       "      <td>0</td>\n",
       "      <td>0</td>\n",
       "      <td>0</td>\n",
       "      <td>100.0</td>\n",
       "      <td>-1.0</td>\n",
       "      <td>0.0</td>\n",
       "      <td>0.0</td>\n",
       "      <td>1.0</td>\n",
       "      <td>1.0</td>\n",
       "    </tr>\n",
       "    <tr>\n",
       "      <th>6</th>\n",
       "      <td>Darren Fells</td>\n",
       "      <td>ARZ</td>\n",
       "      <td>LA</td>\n",
       "      <td>TE</td>\n",
       "      <td>4</td>\n",
       "      <td>2</td>\n",
       "      <td>2</td>\n",
       "      <td>7</td>\n",
       "      <td>0</td>\n",
       "      <td>0</td>\n",
       "      <td>100.0</td>\n",
       "      <td>3.0</td>\n",
       "      <td>3.5</td>\n",
       "      <td>3.5</td>\n",
       "      <td>0.5</td>\n",
       "      <td>2.7</td>\n",
       "    </tr>\n",
       "    <tr>\n",
       "      <th>7</th>\n",
       "      <td>Jermaine Gresham</td>\n",
       "      <td>ARZ</td>\n",
       "      <td>LA</td>\n",
       "      <td>TE</td>\n",
       "      <td>4</td>\n",
       "      <td>1</td>\n",
       "      <td>0</td>\n",
       "      <td>0</td>\n",
       "      <td>0</td>\n",
       "      <td>0</td>\n",
       "      <td>0.0</td>\n",
       "      <td>11.0</td>\n",
       "      <td>0.0</td>\n",
       "      <td>0.0</td>\n",
       "      <td>0.0</td>\n",
       "      <td>0.0</td>\n",
       "    </tr>\n",
       "    <tr>\n",
       "      <th>8</th>\n",
       "      <td>Jermaine Gresham</td>\n",
       "      <td>ARZ</td>\n",
       "      <td>SF</td>\n",
       "      <td>TE</td>\n",
       "      <td>5</td>\n",
       "      <td>1</td>\n",
       "      <td>1</td>\n",
       "      <td>4</td>\n",
       "      <td>0</td>\n",
       "      <td>0</td>\n",
       "      <td>100.0</td>\n",
       "      <td>3.0</td>\n",
       "      <td>4.0</td>\n",
       "      <td>4.0</td>\n",
       "      <td>1.0</td>\n",
       "      <td>1.4</td>\n",
       "    </tr>\n",
       "    <tr>\n",
       "      <th>9</th>\n",
       "      <td>Hakeem Valles</td>\n",
       "      <td>ARZ</td>\n",
       "      <td>SF</td>\n",
       "      <td>TE</td>\n",
       "      <td>5</td>\n",
       "      <td>1</td>\n",
       "      <td>0</td>\n",
       "      <td>0</td>\n",
       "      <td>0</td>\n",
       "      <td>0</td>\n",
       "      <td>0.0</td>\n",
       "      <td>12.0</td>\n",
       "      <td>0.0</td>\n",
       "      <td>0.0</td>\n",
       "      <td>0.0</td>\n",
       "      <td>0.0</td>\n",
       "    </tr>\n",
       "  </tbody>\n",
       "</table>\n",
       "</div>"
      ],
      "text/plain": [
       "             Player Team  Opp Pos  G  Tgt  Rec  Yds  TD  Score    C %  aDOT  \\\n",
       "0  Jermaine Gresham  ARZ   NE  TE  1    4    4   41   0      0  100.0   8.5   \n",
       "1      Darren Fells  ARZ   TB  TE  2    5    4   31   0      0   80.0   3.6   \n",
       "2       Troy Niklas  ARZ   TB  TE  2    1    0    0   0      0    0.0   2.0   \n",
       "3  Jermaine Gresham  ARZ   TB  TE  2    1    0    0   0      0    0.0  18.0   \n",
       "4      Darren Fells  ARZ  BUF  TE  3    2    2   15   0      0  100.0   2.0   \n",
       "5       Troy Niklas  ARZ  BUF  TE  3    1    1    0   0      0  100.0  -1.0   \n",
       "6      Darren Fells  ARZ   LA  TE  4    2    2    7   0      0  100.0   3.0   \n",
       "7  Jermaine Gresham  ARZ   LA  TE  4    1    0    0   0      0    0.0  11.0   \n",
       "8  Jermaine Gresham  ARZ   SF  TE  5    1    1    4   0      0  100.0   3.0   \n",
       "9     Hakeem Valles  ARZ   SF  TE  5    1    0    0   0      0    0.0  12.0   \n",
       "\n",
       "    YPR   YPT  YAC  FPTS  \n",
       "0  10.3  10.3  1.8   8.1  \n",
       "1   7.8   6.2  6.3   7.1  \n",
       "2   0.0   0.0  0.0   0.0  \n",
       "3   0.0   0.0  0.0   0.0  \n",
       "4   7.5   7.5  5.5   3.5  \n",
       "5   0.0   0.0  1.0   1.0  \n",
       "6   3.5   3.5  0.5   2.7  \n",
       "7   0.0   0.0  0.0   0.0  \n",
       "8   4.0   4.0  1.0   1.4  \n",
       "9   0.0   0.0  0.0   0.0  "
      ]
     },
     "execution_count": 37,
     "metadata": {},
     "output_type": "execute_result"
    }
   ],
   "source": [
    "#convert column data to floats\n",
    "\n",
    "rec['YAC'] = rec['YAC'].astype(float)\n",
    "rec['YPT'] = rec['YPT'].astype(float)\n",
    "rec['YPR'] = rec['YPR'].astype(float)\n",
    "rec['C %'] = rec['C %'].astype(float)\n",
    "rec['aDOT'] = rec['aDOT'].astype(float)\n",
    "\n",
    "rec[rec['Pos'] =='TE'].head(10)"
   ]
  },
  {
   "cell_type": "code",
   "execution_count": 38,
   "metadata": {
    "collapsed": false
   },
   "outputs": [
    {
     "data": {
      "text/html": [
       "<div>\n",
       "<style>\n",
       "    .dataframe thead tr:only-child th {\n",
       "        text-align: right;\n",
       "    }\n",
       "\n",
       "    .dataframe thead th {\n",
       "        text-align: left;\n",
       "    }\n",
       "\n",
       "    .dataframe tbody tr th {\n",
       "        vertical-align: top;\n",
       "    }\n",
       "</style>\n",
       "<table border=\"1\" class=\"dataframe\">\n",
       "  <thead>\n",
       "    <tr style=\"text-align: right;\">\n",
       "      <th></th>\n",
       "      <th>Player</th>\n",
       "      <th>Team</th>\n",
       "      <th>Opp</th>\n",
       "      <th>Pos</th>\n",
       "      <th>G</th>\n",
       "      <th>Tgt</th>\n",
       "      <th>Rec</th>\n",
       "      <th>Yds</th>\n",
       "      <th>TD</th>\n",
       "      <th>Score</th>\n",
       "      <th>C %</th>\n",
       "      <th>aDOT</th>\n",
       "      <th>YPR</th>\n",
       "      <th>YPT</th>\n",
       "      <th>YAC</th>\n",
       "      <th>FPTS</th>\n",
       "      <th>RXP</th>\n",
       "    </tr>\n",
       "  </thead>\n",
       "  <tbody>\n",
       "    <tr>\n",
       "      <th>3830</th>\n",
       "      <td>Ryan Mathews</td>\n",
       "      <td>PHI</td>\n",
       "      <td>CHI</td>\n",
       "      <td>RB</td>\n",
       "      <td>2</td>\n",
       "      <td>1</td>\n",
       "      <td>1</td>\n",
       "      <td>3</td>\n",
       "      <td>0</td>\n",
       "      <td>0</td>\n",
       "      <td>100.0</td>\n",
       "      <td>-1.0</td>\n",
       "      <td>3.0</td>\n",
       "      <td>3.0</td>\n",
       "      <td>4.0</td>\n",
       "      <td>1.3</td>\n",
       "      <td>4.38</td>\n",
       "    </tr>\n",
       "    <tr>\n",
       "      <th>3831</th>\n",
       "      <td>Carlos Hyde</td>\n",
       "      <td>SF</td>\n",
       "      <td>CHI</td>\n",
       "      <td>RB</td>\n",
       "      <td>13</td>\n",
       "      <td>2</td>\n",
       "      <td>1</td>\n",
       "      <td>6</td>\n",
       "      <td>0</td>\n",
       "      <td>0</td>\n",
       "      <td>50.0</td>\n",
       "      <td>11.0</td>\n",
       "      <td>6.0</td>\n",
       "      <td>3.0</td>\n",
       "      <td>3.0</td>\n",
       "      <td>1.6</td>\n",
       "      <td>4.38</td>\n",
       "    </tr>\n",
       "    <tr>\n",
       "      <th>3832</th>\n",
       "      <td>Shaun Draughn</td>\n",
       "      <td>SF</td>\n",
       "      <td>CHI</td>\n",
       "      <td>RB</td>\n",
       "      <td>13</td>\n",
       "      <td>1</td>\n",
       "      <td>0</td>\n",
       "      <td>0</td>\n",
       "      <td>0</td>\n",
       "      <td>0</td>\n",
       "      <td>0.0</td>\n",
       "      <td>29.0</td>\n",
       "      <td>0.0</td>\n",
       "      <td>0.0</td>\n",
       "      <td>0.0</td>\n",
       "      <td>0.0</td>\n",
       "      <td>4.38</td>\n",
       "    </tr>\n",
       "    <tr>\n",
       "      <th>3833</th>\n",
       "      <td>Doug Martin</td>\n",
       "      <td>TB</td>\n",
       "      <td>CHI</td>\n",
       "      <td>RB</td>\n",
       "      <td>10</td>\n",
       "      <td>2</td>\n",
       "      <td>1</td>\n",
       "      <td>13</td>\n",
       "      <td>0</td>\n",
       "      <td>0</td>\n",
       "      <td>50.0</td>\n",
       "      <td>5.0</td>\n",
       "      <td>13.0</td>\n",
       "      <td>6.5</td>\n",
       "      <td>7.0</td>\n",
       "      <td>2.3</td>\n",
       "      <td>4.38</td>\n",
       "    </tr>\n",
       "    <tr>\n",
       "      <th>3834</th>\n",
       "      <td>Mike James</td>\n",
       "      <td>TB</td>\n",
       "      <td>CHI</td>\n",
       "      <td>RB</td>\n",
       "      <td>10</td>\n",
       "      <td>1</td>\n",
       "      <td>1</td>\n",
       "      <td>5</td>\n",
       "      <td>0</td>\n",
       "      <td>0</td>\n",
       "      <td>100.0</td>\n",
       "      <td>0.0</td>\n",
       "      <td>5.0</td>\n",
       "      <td>5.0</td>\n",
       "      <td>5.0</td>\n",
       "      <td>1.5</td>\n",
       "      <td>4.38</td>\n",
       "    </tr>\n",
       "    <tr>\n",
       "      <th>3835</th>\n",
       "      <td>Peyton Barber</td>\n",
       "      <td>TB</td>\n",
       "      <td>CHI</td>\n",
       "      <td>RB</td>\n",
       "      <td>10</td>\n",
       "      <td>0</td>\n",
       "      <td>0</td>\n",
       "      <td>0</td>\n",
       "      <td>0</td>\n",
       "      <td>0</td>\n",
       "      <td>0.0</td>\n",
       "      <td>0.0</td>\n",
       "      <td>0.0</td>\n",
       "      <td>0.0</td>\n",
       "      <td>0.0</td>\n",
       "      <td>0.0</td>\n",
       "      <td>4.38</td>\n",
       "    </tr>\n",
       "    <tr>\n",
       "      <th>3836</th>\n",
       "      <td>DeMarco Murray</td>\n",
       "      <td>TEN</td>\n",
       "      <td>CHI</td>\n",
       "      <td>RB</td>\n",
       "      <td>12</td>\n",
       "      <td>5</td>\n",
       "      <td>5</td>\n",
       "      <td>41</td>\n",
       "      <td>0</td>\n",
       "      <td>0</td>\n",
       "      <td>100.0</td>\n",
       "      <td>0.2</td>\n",
       "      <td>8.2</td>\n",
       "      <td>8.2</td>\n",
       "      <td>8.0</td>\n",
       "      <td>9.1</td>\n",
       "      <td>4.38</td>\n",
       "    </tr>\n",
       "    <tr>\n",
       "      <th>3837</th>\n",
       "      <td>Rob Kelley</td>\n",
       "      <td>WAS</td>\n",
       "      <td>CHI</td>\n",
       "      <td>RB</td>\n",
       "      <td>16</td>\n",
       "      <td>3</td>\n",
       "      <td>2</td>\n",
       "      <td>6</td>\n",
       "      <td>0</td>\n",
       "      <td>0</td>\n",
       "      <td>67.0</td>\n",
       "      <td>1.3</td>\n",
       "      <td>3.0</td>\n",
       "      <td>2.0</td>\n",
       "      <td>2.0</td>\n",
       "      <td>2.6</td>\n",
       "      <td>4.38</td>\n",
       "    </tr>\n",
       "    <tr>\n",
       "      <th>3838</th>\n",
       "      <td>Mack Brown</td>\n",
       "      <td>WAS</td>\n",
       "      <td>CHI</td>\n",
       "      <td>RB</td>\n",
       "      <td>16</td>\n",
       "      <td>1</td>\n",
       "      <td>1</td>\n",
       "      <td>-2</td>\n",
       "      <td>0</td>\n",
       "      <td>0</td>\n",
       "      <td>100.0</td>\n",
       "      <td>-3.0</td>\n",
       "      <td>-2.0</td>\n",
       "      <td>-2.0</td>\n",
       "      <td>1.0</td>\n",
       "      <td>0.8</td>\n",
       "      <td>4.38</td>\n",
       "    </tr>\n",
       "    <tr>\n",
       "      <th>3839</th>\n",
       "      <td>Chris Thompson</td>\n",
       "      <td>WAS</td>\n",
       "      <td>CHI</td>\n",
       "      <td>RB</td>\n",
       "      <td>16</td>\n",
       "      <td>1</td>\n",
       "      <td>1</td>\n",
       "      <td>17</td>\n",
       "      <td>1</td>\n",
       "      <td>1</td>\n",
       "      <td>100.0</td>\n",
       "      <td>-3.0</td>\n",
       "      <td>17.0</td>\n",
       "      <td>17.0</td>\n",
       "      <td>20.0</td>\n",
       "      <td>8.7</td>\n",
       "      <td>4.38</td>\n",
       "    </tr>\n",
       "  </tbody>\n",
       "</table>\n",
       "</div>"
      ],
      "text/plain": [
       "              Player Team  Opp Pos   G  Tgt  Rec  Yds  TD  Score    C %  aDOT  \\\n",
       "3830    Ryan Mathews  PHI  CHI  RB   2    1    1    3   0      0  100.0  -1.0   \n",
       "3831     Carlos Hyde   SF  CHI  RB  13    2    1    6   0      0   50.0  11.0   \n",
       "3832   Shaun Draughn   SF  CHI  RB  13    1    0    0   0      0    0.0  29.0   \n",
       "3833     Doug Martin   TB  CHI  RB  10    2    1   13   0      0   50.0   5.0   \n",
       "3834      Mike James   TB  CHI  RB  10    1    1    5   0      0  100.0   0.0   \n",
       "3835   Peyton Barber   TB  CHI  RB  10    0    0    0   0      0    0.0   0.0   \n",
       "3836  DeMarco Murray  TEN  CHI  RB  12    5    5   41   0      0  100.0   0.2   \n",
       "3837      Rob Kelley  WAS  CHI  RB  16    3    2    6   0      0   67.0   1.3   \n",
       "3838      Mack Brown  WAS  CHI  RB  16    1    1   -2   0      0  100.0  -3.0   \n",
       "3839  Chris Thompson  WAS  CHI  RB  16    1    1   17   1      1  100.0  -3.0   \n",
       "\n",
       "       YPR   YPT   YAC  FPTS   RXP  \n",
       "3830   3.0   3.0   4.0   1.3  4.38  \n",
       "3831   6.0   3.0   3.0   1.6  4.38  \n",
       "3832   0.0   0.0   0.0   0.0  4.38  \n",
       "3833  13.0   6.5   7.0   2.3  4.38  \n",
       "3834   5.0   5.0   5.0   1.5  4.38  \n",
       "3835   0.0   0.0   0.0   0.0  4.38  \n",
       "3836   8.2   8.2   8.0   9.1  4.38  \n",
       "3837   3.0   2.0   2.0   2.6  4.38  \n",
       "3838  -2.0  -2.0   1.0   0.8  4.38  \n",
       "3839  17.0  17.0  20.0   8.7  4.38  "
      ]
     },
     "execution_count": 38,
     "metadata": {},
     "output_type": "execute_result"
    }
   ],
   "source": [
    "#merge matchup and positional data\n",
    "#run defense\n",
    "\n",
    "rec = pd.merge(rec, run_def, on=['Opp'], how='inner')\n",
    "rec.tail(10)"
   ]
  },
  {
   "cell_type": "code",
   "execution_count": 39,
   "metadata": {
    "collapsed": false
   },
   "outputs": [
    {
     "data": {
      "text/html": [
       "<div>\n",
       "<style>\n",
       "    .dataframe thead tr:only-child th {\n",
       "        text-align: right;\n",
       "    }\n",
       "\n",
       "    .dataframe thead th {\n",
       "        text-align: left;\n",
       "    }\n",
       "\n",
       "    .dataframe tbody tr th {\n",
       "        vertical-align: top;\n",
       "    }\n",
       "</style>\n",
       "<table border=\"1\" class=\"dataframe\">\n",
       "  <thead>\n",
       "    <tr style=\"text-align: right;\">\n",
       "      <th></th>\n",
       "      <th>Player</th>\n",
       "      <th>Team</th>\n",
       "      <th>Opp</th>\n",
       "      <th>Pos</th>\n",
       "      <th>G</th>\n",
       "      <th>Tgt</th>\n",
       "      <th>Rec</th>\n",
       "      <th>Yds</th>\n",
       "      <th>TD</th>\n",
       "      <th>Score</th>\n",
       "      <th>C %</th>\n",
       "      <th>aDOT</th>\n",
       "      <th>YPR</th>\n",
       "      <th>YPT</th>\n",
       "      <th>YAC</th>\n",
       "      <th>FPTS</th>\n",
       "      <th>RXP</th>\n",
       "      <th>QBR</th>\n",
       "      <th>Sk</th>\n",
       "    </tr>\n",
       "  </thead>\n",
       "  <tbody>\n",
       "    <tr>\n",
       "      <th>0</th>\n",
       "      <td>Larry Fitzgerald</td>\n",
       "      <td>ARZ</td>\n",
       "      <td>NE</td>\n",
       "      <td>WR</td>\n",
       "      <td>1</td>\n",
       "      <td>9</td>\n",
       "      <td>8</td>\n",
       "      <td>81</td>\n",
       "      <td>2</td>\n",
       "      <td>1</td>\n",
       "      <td>89.0</td>\n",
       "      <td>8.8</td>\n",
       "      <td>10.1</td>\n",
       "      <td>9.0</td>\n",
       "      <td>3.1</td>\n",
       "      <td>28.1</td>\n",
       "      <td>35.11</td>\n",
       "      <td>84.4</td>\n",
       "      <td>34.0</td>\n",
       "    </tr>\n",
       "    <tr>\n",
       "      <th>1</th>\n",
       "      <td>Michael Floyd</td>\n",
       "      <td>ARZ</td>\n",
       "      <td>NE</td>\n",
       "      <td>WR</td>\n",
       "      <td>1</td>\n",
       "      <td>7</td>\n",
       "      <td>3</td>\n",
       "      <td>61</td>\n",
       "      <td>0</td>\n",
       "      <td>0</td>\n",
       "      <td>43.0</td>\n",
       "      <td>15.6</td>\n",
       "      <td>20.3</td>\n",
       "      <td>8.7</td>\n",
       "      <td>4.7</td>\n",
       "      <td>9.1</td>\n",
       "      <td>35.11</td>\n",
       "      <td>84.4</td>\n",
       "      <td>34.0</td>\n",
       "    </tr>\n",
       "    <tr>\n",
       "      <th>2</th>\n",
       "      <td>John Brown</td>\n",
       "      <td>ARZ</td>\n",
       "      <td>NE</td>\n",
       "      <td>WR</td>\n",
       "      <td>1</td>\n",
       "      <td>4</td>\n",
       "      <td>1</td>\n",
       "      <td>8</td>\n",
       "      <td>0</td>\n",
       "      <td>0</td>\n",
       "      <td>25.0</td>\n",
       "      <td>20.0</td>\n",
       "      <td>8.0</td>\n",
       "      <td>2.0</td>\n",
       "      <td>1.0</td>\n",
       "      <td>1.8</td>\n",
       "      <td>35.11</td>\n",
       "      <td>84.4</td>\n",
       "      <td>34.0</td>\n",
       "    </tr>\n",
       "    <tr>\n",
       "      <th>3</th>\n",
       "      <td>Jaron Brown</td>\n",
       "      <td>ARZ</td>\n",
       "      <td>NE</td>\n",
       "      <td>WR</td>\n",
       "      <td>1</td>\n",
       "      <td>2</td>\n",
       "      <td>1</td>\n",
       "      <td>18</td>\n",
       "      <td>0</td>\n",
       "      <td>0</td>\n",
       "      <td>50.0</td>\n",
       "      <td>13.5</td>\n",
       "      <td>18.0</td>\n",
       "      <td>9.0</td>\n",
       "      <td>1.0</td>\n",
       "      <td>2.8</td>\n",
       "      <td>35.11</td>\n",
       "      <td>84.4</td>\n",
       "      <td>34.0</td>\n",
       "    </tr>\n",
       "    <tr>\n",
       "      <th>4</th>\n",
       "      <td>Mike Wallace</td>\n",
       "      <td>BLT</td>\n",
       "      <td>NE</td>\n",
       "      <td>WR</td>\n",
       "      <td>14</td>\n",
       "      <td>8</td>\n",
       "      <td>5</td>\n",
       "      <td>52</td>\n",
       "      <td>0</td>\n",
       "      <td>0</td>\n",
       "      <td>63.0</td>\n",
       "      <td>21.6</td>\n",
       "      <td>10.4</td>\n",
       "      <td>6.5</td>\n",
       "      <td>1.6</td>\n",
       "      <td>10.2</td>\n",
       "      <td>35.11</td>\n",
       "      <td>84.4</td>\n",
       "      <td>34.0</td>\n",
       "    </tr>\n",
       "    <tr>\n",
       "      <th>5</th>\n",
       "      <td>Steve L. Smith</td>\n",
       "      <td>BLT</td>\n",
       "      <td>NE</td>\n",
       "      <td>WR</td>\n",
       "      <td>14</td>\n",
       "      <td>6</td>\n",
       "      <td>4</td>\n",
       "      <td>57</td>\n",
       "      <td>0</td>\n",
       "      <td>0</td>\n",
       "      <td>67.0</td>\n",
       "      <td>8.7</td>\n",
       "      <td>14.3</td>\n",
       "      <td>9.5</td>\n",
       "      <td>2.3</td>\n",
       "      <td>9.7</td>\n",
       "      <td>35.11</td>\n",
       "      <td>84.4</td>\n",
       "      <td>34.0</td>\n",
       "    </tr>\n",
       "    <tr>\n",
       "      <th>6</th>\n",
       "      <td>Breshad Perriman</td>\n",
       "      <td>BLT</td>\n",
       "      <td>NE</td>\n",
       "      <td>WR</td>\n",
       "      <td>14</td>\n",
       "      <td>4</td>\n",
       "      <td>3</td>\n",
       "      <td>52</td>\n",
       "      <td>0</td>\n",
       "      <td>0</td>\n",
       "      <td>75.0</td>\n",
       "      <td>14.8</td>\n",
       "      <td>17.3</td>\n",
       "      <td>13.0</td>\n",
       "      <td>1.7</td>\n",
       "      <td>8.2</td>\n",
       "      <td>35.11</td>\n",
       "      <td>84.4</td>\n",
       "      <td>34.0</td>\n",
       "    </tr>\n",
       "    <tr>\n",
       "      <th>7</th>\n",
       "      <td>Kamar Aiken</td>\n",
       "      <td>BLT</td>\n",
       "      <td>NE</td>\n",
       "      <td>WR</td>\n",
       "      <td>14</td>\n",
       "      <td>3</td>\n",
       "      <td>1</td>\n",
       "      <td>10</td>\n",
       "      <td>0</td>\n",
       "      <td>0</td>\n",
       "      <td>33.0</td>\n",
       "      <td>6.0</td>\n",
       "      <td>10.0</td>\n",
       "      <td>3.3</td>\n",
       "      <td>1.0</td>\n",
       "      <td>2.0</td>\n",
       "      <td>35.11</td>\n",
       "      <td>84.4</td>\n",
       "      <td>34.0</td>\n",
       "    </tr>\n",
       "    <tr>\n",
       "      <th>8</th>\n",
       "      <td>Chris Moore</td>\n",
       "      <td>BLT</td>\n",
       "      <td>NE</td>\n",
       "      <td>WR</td>\n",
       "      <td>14</td>\n",
       "      <td>1</td>\n",
       "      <td>1</td>\n",
       "      <td>5</td>\n",
       "      <td>0</td>\n",
       "      <td>0</td>\n",
       "      <td>100.0</td>\n",
       "      <td>4.0</td>\n",
       "      <td>5.0</td>\n",
       "      <td>5.0</td>\n",
       "      <td>1.0</td>\n",
       "      <td>1.5</td>\n",
       "      <td>35.11</td>\n",
       "      <td>84.4</td>\n",
       "      <td>34.0</td>\n",
       "    </tr>\n",
       "    <tr>\n",
       "      <th>9</th>\n",
       "      <td>Robert Woods</td>\n",
       "      <td>BUF</td>\n",
       "      <td>NE</td>\n",
       "      <td>WR</td>\n",
       "      <td>4</td>\n",
       "      <td>10</td>\n",
       "      <td>7</td>\n",
       "      <td>89</td>\n",
       "      <td>0</td>\n",
       "      <td>0</td>\n",
       "      <td>70.0</td>\n",
       "      <td>10.2</td>\n",
       "      <td>12.7</td>\n",
       "      <td>8.9</td>\n",
       "      <td>2.9</td>\n",
       "      <td>15.9</td>\n",
       "      <td>35.11</td>\n",
       "      <td>84.4</td>\n",
       "      <td>34.0</td>\n",
       "    </tr>\n",
       "  </tbody>\n",
       "</table>\n",
       "</div>"
      ],
      "text/plain": [
       "             Player Team Opp Pos   G  Tgt  Rec  Yds  TD  Score    C %  aDOT  \\\n",
       "0  Larry Fitzgerald  ARZ  NE  WR   1    9    8   81   2      1   89.0   8.8   \n",
       "1     Michael Floyd  ARZ  NE  WR   1    7    3   61   0      0   43.0  15.6   \n",
       "2        John Brown  ARZ  NE  WR   1    4    1    8   0      0   25.0  20.0   \n",
       "3       Jaron Brown  ARZ  NE  WR   1    2    1   18   0      0   50.0  13.5   \n",
       "4      Mike Wallace  BLT  NE  WR  14    8    5   52   0      0   63.0  21.6   \n",
       "5    Steve L. Smith  BLT  NE  WR  14    6    4   57   0      0   67.0   8.7   \n",
       "6  Breshad Perriman  BLT  NE  WR  14    4    3   52   0      0   75.0  14.8   \n",
       "7       Kamar Aiken  BLT  NE  WR  14    3    1   10   0      0   33.0   6.0   \n",
       "8       Chris Moore  BLT  NE  WR  14    1    1    5   0      0  100.0   4.0   \n",
       "9      Robert Woods  BUF  NE  WR   4   10    7   89   0      0   70.0  10.2   \n",
       "\n",
       "    YPR   YPT  YAC  FPTS    RXP   QBR    Sk  \n",
       "0  10.1   9.0  3.1  28.1  35.11  84.4  34.0  \n",
       "1  20.3   8.7  4.7   9.1  35.11  84.4  34.0  \n",
       "2   8.0   2.0  1.0   1.8  35.11  84.4  34.0  \n",
       "3  18.0   9.0  1.0   2.8  35.11  84.4  34.0  \n",
       "4  10.4   6.5  1.6  10.2  35.11  84.4  34.0  \n",
       "5  14.3   9.5  2.3   9.7  35.11  84.4  34.0  \n",
       "6  17.3  13.0  1.7   8.2  35.11  84.4  34.0  \n",
       "7  10.0   3.3  1.0   2.0  35.11  84.4  34.0  \n",
       "8   5.0   5.0  1.0   1.5  35.11  84.4  34.0  \n",
       "9  12.7   8.9  2.9  15.9  35.11  84.4  34.0  "
      ]
     },
     "execution_count": 39,
     "metadata": {},
     "output_type": "execute_result"
    }
   ],
   "source": [
    "#pass defense\n",
    "\n",
    "rec = pd.merge(rec, pass_def, on=['Opp'], how='inner')\n",
    "rec.head(10)"
   ]
  },
  {
   "cell_type": "code",
   "execution_count": 40,
   "metadata": {
    "collapsed": false
   },
   "outputs": [
    {
     "name": "stdout",
     "output_type": "stream",
     "text": [
      "Total:  753\n",
      "Score:  0.17838541666666666\n",
      "FPTS:  7.505390624999989\n",
      "TD0  5.305071315372412\n",
      "TD1  16.497106109324747\n",
      "WR TDs:  485\n",
      "TE TDs:  177\n",
      "RB TDs:  91\n"
     ]
    }
   ],
   "source": [
    "#exploration\n",
    "#17.8% of samples scored a passing touchdown\n",
    "#massive effect on fantasy points accured\n",
    "#more than half of all tds by wide receivers\n",
    "\n",
    "print('Total: ', rec['TD'].sum())\n",
    "print('Score: ', rec['Score'].mean())\n",
    "print('FPTS: ', rec.FPTS.mean())\n",
    "print('TD0 ', rec[rec['TD']==0].FPTS.mean())\n",
    "print('TD1 ', rec[rec['TD']==1].FPTS.mean())\n",
    "print('WR TDs: ', rec[rec['Pos']=='WR'].TD.sum())\n",
    "print('TE TDs: ', rec[rec['Pos']=='TE'].TD.sum())\n",
    "print('RB TDs: ', rec[rec['Pos']=='RB'].TD.sum())"
   ]
  },
  {
   "cell_type": "code",
   "execution_count": 41,
   "metadata": {
    "collapsed": false
   },
   "outputs": [
    {
     "data": {
      "text/html": [
       "<div>\n",
       "<style>\n",
       "    .dataframe thead tr:only-child th {\n",
       "        text-align: right;\n",
       "    }\n",
       "\n",
       "    .dataframe thead th {\n",
       "        text-align: left;\n",
       "    }\n",
       "\n",
       "    .dataframe tbody tr th {\n",
       "        vertical-align: top;\n",
       "    }\n",
       "</style>\n",
       "<table border=\"1\" class=\"dataframe\">\n",
       "  <thead>\n",
       "    <tr style=\"text-align: right;\">\n",
       "      <th></th>\n",
       "      <th>Pos</th>\n",
       "    </tr>\n",
       "  </thead>\n",
       "  <tbody>\n",
       "    <tr>\n",
       "      <th>WR</th>\n",
       "      <td>1839</td>\n",
       "    </tr>\n",
       "    <tr>\n",
       "      <th>RB</th>\n",
       "      <td>1145</td>\n",
       "    </tr>\n",
       "    <tr>\n",
       "      <th>TE</th>\n",
       "      <td>856</td>\n",
       "    </tr>\n",
       "  </tbody>\n",
       "</table>\n",
       "</div>"
      ],
      "text/plain": [
       "     Pos\n",
       "WR  1839\n",
       "RB  1145\n",
       "TE   856"
      ]
     },
     "execution_count": 41,
     "metadata": {},
     "output_type": "execute_result"
    }
   ],
   "source": [
    "#data reflects skill players with atleast one snap, rb waters down frequencies\n",
    "\n",
    "rec['Pos'].value_counts().to_frame()"
   ]
  },
  {
   "cell_type": "code",
   "execution_count": 42,
   "metadata": {
    "collapsed": false
   },
   "outputs": [
    {
     "data": {
      "text/html": [
       "<div>\n",
       "<style>\n",
       "    .dataframe thead tr:only-child th {\n",
       "        text-align: right;\n",
       "    }\n",
       "\n",
       "    .dataframe thead th {\n",
       "        text-align: left;\n",
       "    }\n",
       "\n",
       "    .dataframe tbody tr th {\n",
       "        vertical-align: top;\n",
       "    }\n",
       "</style>\n",
       "<table border=\"1\" class=\"dataframe\">\n",
       "  <thead>\n",
       "    <tr style=\"text-align: right;\">\n",
       "      <th></th>\n",
       "      <th>Pos</th>\n",
       "    </tr>\n",
       "  </thead>\n",
       "  <tbody>\n",
       "    <tr>\n",
       "      <th>WR</th>\n",
       "      <td>1826</td>\n",
       "    </tr>\n",
       "    <tr>\n",
       "      <th>RB</th>\n",
       "      <td>963</td>\n",
       "    </tr>\n",
       "    <tr>\n",
       "      <th>TE</th>\n",
       "      <td>856</td>\n",
       "    </tr>\n",
       "  </tbody>\n",
       "</table>\n",
       "</div>"
      ],
      "text/plain": [
       "     Pos\n",
       "WR  1826\n",
       "RB   963\n",
       "TE   856"
      ]
     },
     "execution_count": 42,
     "metadata": {},
     "output_type": "execute_result"
    }
   ],
   "source": [
    "#filter for skill players with at least 1 target\n",
    "\n",
    "rec = rec[rec['Tgt']>0]\n",
    "rec['Pos'].value_counts().to_frame()"
   ]
  },
  {
   "cell_type": "code",
   "execution_count": 43,
   "metadata": {
    "collapsed": false
   },
   "outputs": [
    {
     "name": "stdout",
     "output_type": "stream",
     "text": [
      "WR FPTS:  9.74720700985759\n",
      "TE FPTS:  7.2085280373831715\n",
      "RB FPTS:  5.0382139148494325\n"
     ]
    }
   ],
   "source": [
    "#fantasy points by position\n",
    "\n",
    "print('WR FPTS: ', rec[rec['Pos']=='WR'].FPTS.mean())\n",
    "print('TE FPTS: ', rec[rec['Pos']=='TE'].FPTS.mean())\n",
    "print('RB FPTS: ', rec[rec['Pos']=='RB'].FPTS.mean())"
   ]
  },
  {
   "cell_type": "code",
   "execution_count": 44,
   "metadata": {
    "collapsed": false
   },
   "outputs": [
    {
     "data": {
      "image/png": "[encoded data removed]",
      "text/plain": [
       "<matplotlib.figure.Figure at 0x27ff727a438>"
      ]
     },
     "metadata": {},
     "output_type": "display_data"
    }
   ],
   "source": [
    "# visual of positional scoring frequency\n",
    "\n",
    "plt.style.use('seaborn')\n",
    "f,ax=plt.subplots(figsize=(8,4))\n",
    "rec['Score'].groupby(rec['Pos']).sum().plot.pie(autopct='%1.1f%%', shadow=True)\n",
    "ax.set_title('Positional Scoring')\n",
    "ax.set_ylabel('')\n",
    "plt.show()"
   ]
  },
  {
   "cell_type": "code",
   "execution_count": 45,
   "metadata": {
    "collapsed": false
   },
   "outputs": [
    {
     "data": {
      "image/png": "[encoded data removed]",
      "text/plain": [
       "<matplotlib.figure.Figure at 0x27ffabaf780>"
      ]
     },
     "metadata": {},
     "output_type": "display_data"
    }
   ],
   "source": [
    "#visual of positional frequency\n",
    "\n",
    "f,ax=plt.subplots(figsize=(8,4))\n",
    "sns.countplot('Pos', data=rec)\n",
    "ax.set_title('Positional Sample')\n",
    "plt.show()"
   ]
  },
  {
   "cell_type": "code",
   "execution_count": 46,
   "metadata": {
    "collapsed": false
   },
   "outputs": [
    {
     "name": "stdout",
     "output_type": "stream",
     "text": [
      "3645\n"
     ]
    }
   ],
   "source": [
    "#length of dataset -- skill players receiving at least one target in a game\n",
    "\n",
    "print(len(rec))"
   ]
  },
  {
   "cell_type": "code",
   "execution_count": 47,
   "metadata": {
    "collapsed": false
   },
   "outputs": [
    {
     "name": "stdout",
     "output_type": "stream",
     "text": [
      "WR frequency:  0.500960219478738\n",
      "TE frequency:  0.23484224965706446\n",
      "RB frequency:  0.2641975308641975\n"
     ]
    }
   ],
   "source": [
    "#WR outpreformed positional frequency relative to scoring frequency -- 63.6% > 50.1%\n",
    "\n",
    "print('WR frequency: ', 1826/3645)\n",
    "print('TE frequency: ', 856/3645)\n",
    "print('RB frequency: ', 963/3645)"
   ]
  },
  {
   "cell_type": "code",
   "execution_count": 48,
   "metadata": {
    "collapsed": false
   },
   "outputs": [
    {
     "data": {
      "image/png": "[encoded data removed]",
      "text/plain": [
       "<matplotlib.figure.Figure at 0x27ffa1c3860>"
      ]
     },
     "metadata": {},
     "output_type": "display_data"
    }
   ],
   "source": [
    "#scoring efficiency\n",
    "#wr ~33% success rate\n",
    "#te ~25% success rate\n",
    "#rb ~10% success rate\n",
    "\n",
    "f,ax=plt.subplots(1,2, figsize=(18,8))\n",
    "rec['Score'].groupby(rec['Pos']).value_counts().plot.pie(autopct='%1.1f%%', ax=ax[0], shadow=True)\n",
    "ax[0].set_title('Touchdown Success by Position')\n",
    "ax[0].set_ylabel('')\n",
    "sns.countplot('Pos', hue='Score', data=rec, ax=ax[1])\n",
    "ax[1].set_title('TD Success by Position')\n",
    "plt.show()"
   ]
  },
  {
   "cell_type": "code",
   "execution_count": 49,
   "metadata": {
    "collapsed": false
   },
   "outputs": [
    {
     "data": {
      "image/png": "[encoded data removed]",
      "text/plain": [
       "<matplotlib.figure.Figure at 0x27ffa9f6be0>"
      ]
     },
     "metadata": {},
     "output_type": "display_data"
    }
   ],
   "source": [
    "#opportunity as a measure of touchdowns is significant across all positions\n",
    "#this implies scoring requires more than just a positional component\n",
    "\n",
    "f,ax=plt.subplots(figsize=(9,5))\n",
    "sns.barplot('Pos','Tgt', data=rec, hue='Score')\n",
    "ax.set_title('Expected Targets')\n",
    "plt.show()"
   ]
  },
  {
   "cell_type": "code",
   "execution_count": 50,
   "metadata": {
    "collapsed": false
   },
   "outputs": [
    {
     "data": {
      "image/png": "[encoded data removed]",
      "text/plain": [
       "<matplotlib.figure.Figure at 0x27ff8b5d198>"
      ]
     },
     "metadata": {},
     "output_type": "display_data"
    }
   ],
   "source": [
    "#target distance as a weighted measure of opportunity is significant for wr and te in scoring touchdowns\n",
    "#rb routes are generally shorter patterns, so this is to be expected\n",
    "\n",
    "f,ax=plt.subplots(figsize=(9,5))\n",
    "sns.barplot('Pos','aDOT', data=rec, hue='Score')\n",
    "ax.set_title('Expected aDOT')\n",
    "plt.show()"
   ]
  },
  {
   "cell_type": "code",
   "execution_count": 51,
   "metadata": {
    "collapsed": false
   },
   "outputs": [
    {
     "name": "stdout",
     "output_type": "stream",
     "text": [
      "Score=0:  7.318040540540519\n",
      "Score=1:  10.703503649635051\n",
      "Score=1:  0.7762201453790248\n",
      "0.46229508196721314\n"
     ]
    }
   ],
   "source": [
    "#rb average target distance less than one yard\n",
    "#46.2% increase in target distance observed for scoring outcomes\n",
    "\n",
    "print('Score=0: ', rec[rec['Score']==0].aDOT.mean())\n",
    "print('Score=1: ', rec[rec['Score']==1].aDOT.mean())\n",
    "print('Score=1: ', rec[rec['Pos']=='RB'].aDOT.mean())\n",
    "print((10.704-7.32)/7.32)"
   ]
  },
  {
   "cell_type": "code",
   "execution_count": 52,
   "metadata": {
    "collapsed": false
   },
   "outputs": [
    {
     "data": {
      "image/png": "[encoded data removed]",
      "text/plain": [
       "<matplotlib.figure.Figure at 0x27ffa26c3c8>"
      ]
     },
     "metadata": {},
     "output_type": "display_data"
    }
   ],
   "source": [
    "#receiving yards as a function of touchdowns is significant across positions\n",
    "\n",
    "f,ax=plt.subplots(figsize=(9,5))\n",
    "sns.barplot('Pos','Yds', data=rec, hue='Score')\n",
    "ax.set_title('Expected Yards')\n",
    "plt.show()"
   ]
  },
  {
   "cell_type": "code",
   "execution_count": 53,
   "metadata": {
    "collapsed": false
   },
   "outputs": [
    {
     "name": "stdout",
     "output_type": "stream",
     "text": [
      "Score=0:  28.761824324324323\n",
      "Score=1:  60.36788321167883\n",
      "1.0990959666203057\n"
     ]
    }
   ],
   "source": [
    "#110% average increase in receiving yards for scoring events\n",
    "\n",
    "print('Score=0: ', rec[rec['Score']==0].Yds.mean())\n",
    "print('Score=1: ', rec[rec['Score']==1].Yds.mean())\n",
    "print((60.37-28.76)/28.76)"
   ]
  },
  {
   "cell_type": "code",
   "execution_count": 54,
   "metadata": {
    "collapsed": false
   },
   "outputs": [
    {
     "data": {
      "image/png": "[encoded data removed]",
      "text/plain": [
       "<matplotlib.figure.Figure at 0x27ff8605940>"
      ]
     },
     "metadata": {},
     "output_type": "display_data"
    }
   ],
   "source": [
    "#receptions as a function of touchdowns is significant across positions\n",
    "\n",
    "f,ax=plt.subplots(figsize=(9,5))\n",
    "sns.barplot('Pos','Rec', data=rec, hue='Score')\n",
    "ax.set_title('Expected Rec')\n",
    "plt.show()"
   ]
  },
  {
   "cell_type": "code",
   "execution_count": 55,
   "metadata": {
    "collapsed": false
   },
   "outputs": [
    {
     "name": "stdout",
     "output_type": "stream",
     "text": [
      "Score=0:  2.6983108108108107\n",
      "Score=1:  4.543065693430657\n",
      "0.6814814814814814\n"
     ]
    }
   ],
   "source": [
    "#68.1% expected increase in receptions for scoring events\n",
    "\n",
    "print('Score=0: ', rec[rec['Score']==0].Rec.mean())\n",
    "print('Score=1: ', rec[rec['Score']==1].Rec.mean())\n",
    "print((4.54-2.7)/2.7)"
   ]
  },
  {
   "cell_type": "code",
   "execution_count": 56,
   "metadata": {
    "collapsed": false
   },
   "outputs": [
    {
     "name": "stdout",
     "output_type": "stream",
     "text": [
      "Score=0:  4.0496621621621625\n",
      "Score=1:  6.338686131386861\n",
      "0.6631578947368423\n",
      "Targets>=10:  0.3304867634500427\n"
     ]
    }
   ],
   "source": [
    "#opportunity has huge role in touchdown expectation\n",
    "#average targets for player who scores a touchdown ~ 6\n",
    "#touchdown expectation for players receiving at least 6 targets = 33%\n",
    "#this will be the baseline for model evaluation\n",
    "\n",
    "print('Score=0: ', rec[rec['Score']==0].Tgt.mean())\n",
    "print('Score=1: ', rec[rec['Score']==1].Tgt.mean())\n",
    "print((6.32-3.8)/3.8)\n",
    "print('Targets>=10: ', rec[rec['Tgt']>=6].Score.mean())"
   ]
  },
  {
   "cell_type": "code",
   "execution_count": 57,
   "metadata": {
    "collapsed": false
   },
   "outputs": [
    {
     "name": "stdout",
     "output_type": "stream",
     "text": [
      "<class 'pandas.core.frame.DataFrame'>\n",
      "Int64Index: 3645 entries, 0 to 3839\n",
      "Data columns (total 19 columns):\n",
      "Player    3645 non-null object\n",
      "Team      3645 non-null int64\n",
      "Opp       3645 non-null int64\n",
      "Pos       3645 non-null int64\n",
      "G         3645 non-null int64\n",
      "Tgt       3645 non-null int64\n",
      "Rec       3645 non-null int64\n",
      "Yds       3645 non-null int64\n",
      "TD        3645 non-null int64\n",
      "Score     3645 non-null int64\n",
      "C %       3645 non-null float64\n",
      "aDOT      3645 non-null float64\n",
      "YPR       3645 non-null float64\n",
      "YPT       3645 non-null float64\n",
      "YAC       3645 non-null float64\n",
      "FPTS      3645 non-null float64\n",
      "RXP       3645 non-null float64\n",
      "QBR       3645 non-null float64\n",
      "Sk        3645 non-null float64\n",
      "dtypes: float64(9), int64(9), object(1)\n",
      "memory usage: 729.5+ KB\n",
      "None\n"
     ]
    }
   ],
   "source": [
    "#more data cleaning\n",
    "#convert team names to ordinal rank based on matchup data\n",
    "#convert position names to arbitrary values for processing\n",
    "\n",
    "rec['Opp'].replace(['DEN','HST', 'MIN', 'ARZ', 'JAX', 'BUF', 'CHI', 'SEA', 'BLT',\n",
    "                   'LA', 'CIN', 'NE', 'PHI', 'SF', 'MIA', 'PIT', 'NYJ', 'KC', 'DET',\n",
    "                   'SD', 'CLV', 'TB', 'NYG', 'OAK', 'WAS', 'DAL', 'IND', 'ATL', 'CAR',\n",
    "                   'TEN', 'GB', 'NO'], [1, 2, 3 , 4, 5, 6, 7, 8, 9, 10, 11, 12, 13, 14,\n",
    "                                       15, 16, 17, 18, 19, 20, 21, 22, 23, 24, 25, 26,\n",
    "                                       27, 28, 29, 30, 31, 32], inplace=True)\n",
    "\n",
    "rec['Team'].replace(['ATL', 'NO', 'NE', 'GB', 'DAL', 'ARZ', 'OAK', 'IND', 'SD',\n",
    "                    'PIT', 'BUF', 'WAS', 'KC', 'TEN', 'CAR', 'PHI', 'MIA', 'SEA',\n",
    "                    'TB', 'DET', 'BLT', 'DEN', 'MIN', 'CIN', 'JAX', 'NYG', 'SF',\n",
    "                    'CHI', 'HST', 'NYJ', 'CLV', 'LA'], [1, 2, 3, 4, 5, 6, 7, 8, 9, 10,\n",
    "                                                       11, 12, 13, 14, 15, 16, 17, 18, 19,\n",
    "                                                       20, 21, 22, 23, 24, 25, 26, 27, 28,\n",
    "                                                       29, 30, 31, 32], inplace=True)\n",
    "\n",
    "rec['Pos'].replace(['WR', 'TE', 'RB'], [0, 1, 2], inplace=True)\n",
    "print(rec.info())"
   ]
  },
  {
   "cell_type": "code",
   "execution_count": 58,
   "metadata": {
    "collapsed": true
   },
   "outputs": [],
   "source": [
    "#convert matchup ranking to a range for better interpretation\n",
    "\n",
    "rec['Opp_range'] = 0\n",
    "rec.loc[rec['Opp']<=6, 'Opp_range'] = 0\n",
    "rec.loc[(rec['Opp']>6) & (rec['Opp']<=12), 'Opp_range'] = 1\n",
    "rec.loc[(rec['Opp']>12) & (rec['Opp']<=18), 'Opp_range'] = 2\n",
    "rec.loc[(rec['Opp']>18) & (rec['Opp']<=24), 'Opp_range'] = 3\n",
    "rec.loc[rec['Opp']>24, 'Opp_range'] = 4"
   ]
  },
  {
   "cell_type": "code",
   "execution_count": 59,
   "metadata": {
    "collapsed": false
   },
   "outputs": [
    {
     "data": {
      "text/html": [
       "<div>\n",
       "<style>\n",
       "    .dataframe thead tr:only-child th {\n",
       "        text-align: right;\n",
       "    }\n",
       "\n",
       "    .dataframe thead th {\n",
       "        text-align: left;\n",
       "    }\n",
       "\n",
       "    .dataframe tbody tr th {\n",
       "        vertical-align: top;\n",
       "    }\n",
       "</style>\n",
       "<table border=\"1\" class=\"dataframe\">\n",
       "  <thead>\n",
       "    <tr style=\"text-align: right;\">\n",
       "      <th></th>\n",
       "      <th>Score</th>\n",
       "      <th>Opp_range</th>\n",
       "      <th>Pos</th>\n",
       "      <th>Tgt</th>\n",
       "      <th>aDOT</th>\n",
       "      <th>Yds</th>\n",
       "    </tr>\n",
       "  </thead>\n",
       "  <tbody>\n",
       "    <tr>\n",
       "      <th>3829</th>\n",
       "      <td>0</td>\n",
       "      <td>1</td>\n",
       "      <td>2</td>\n",
       "      <td>2</td>\n",
       "      <td>-2.5</td>\n",
       "      <td>8</td>\n",
       "    </tr>\n",
       "    <tr>\n",
       "      <th>3830</th>\n",
       "      <td>0</td>\n",
       "      <td>1</td>\n",
       "      <td>2</td>\n",
       "      <td>1</td>\n",
       "      <td>-1.0</td>\n",
       "      <td>3</td>\n",
       "    </tr>\n",
       "    <tr>\n",
       "      <th>3831</th>\n",
       "      <td>0</td>\n",
       "      <td>1</td>\n",
       "      <td>2</td>\n",
       "      <td>2</td>\n",
       "      <td>11.0</td>\n",
       "      <td>6</td>\n",
       "    </tr>\n",
       "    <tr>\n",
       "      <th>3832</th>\n",
       "      <td>0</td>\n",
       "      <td>1</td>\n",
       "      <td>2</td>\n",
       "      <td>1</td>\n",
       "      <td>29.0</td>\n",
       "      <td>0</td>\n",
       "    </tr>\n",
       "    <tr>\n",
       "      <th>3833</th>\n",
       "      <td>0</td>\n",
       "      <td>1</td>\n",
       "      <td>2</td>\n",
       "      <td>2</td>\n",
       "      <td>5.0</td>\n",
       "      <td>13</td>\n",
       "    </tr>\n",
       "    <tr>\n",
       "      <th>3834</th>\n",
       "      <td>0</td>\n",
       "      <td>1</td>\n",
       "      <td>2</td>\n",
       "      <td>1</td>\n",
       "      <td>0.0</td>\n",
       "      <td>5</td>\n",
       "    </tr>\n",
       "    <tr>\n",
       "      <th>3836</th>\n",
       "      <td>0</td>\n",
       "      <td>1</td>\n",
       "      <td>2</td>\n",
       "      <td>5</td>\n",
       "      <td>0.2</td>\n",
       "      <td>41</td>\n",
       "    </tr>\n",
       "    <tr>\n",
       "      <th>3837</th>\n",
       "      <td>0</td>\n",
       "      <td>1</td>\n",
       "      <td>2</td>\n",
       "      <td>3</td>\n",
       "      <td>1.3</td>\n",
       "      <td>6</td>\n",
       "    </tr>\n",
       "    <tr>\n",
       "      <th>3838</th>\n",
       "      <td>0</td>\n",
       "      <td>1</td>\n",
       "      <td>2</td>\n",
       "      <td>1</td>\n",
       "      <td>-3.0</td>\n",
       "      <td>-2</td>\n",
       "    </tr>\n",
       "    <tr>\n",
       "      <th>3839</th>\n",
       "      <td>1</td>\n",
       "      <td>1</td>\n",
       "      <td>2</td>\n",
       "      <td>1</td>\n",
       "      <td>-3.0</td>\n",
       "      <td>17</td>\n",
       "    </tr>\n",
       "  </tbody>\n",
       "</table>\n",
       "</div>"
      ],
      "text/plain": [
       "      Score  Opp_range  Pos  Tgt  aDOT  Yds\n",
       "3829      0          1    2    2  -2.5    8\n",
       "3830      0          1    2    1  -1.0    3\n",
       "3831      0          1    2    2  11.0    6\n",
       "3832      0          1    2    1  29.0    0\n",
       "3833      0          1    2    2   5.0   13\n",
       "3834      0          1    2    1   0.0    5\n",
       "3836      0          1    2    5   0.2   41\n",
       "3837      0          1    2    3   1.3    6\n",
       "3838      0          1    2    1  -3.0   -2\n",
       "3839      1          1    2    1  -3.0   17"
      ]
     },
     "execution_count": 59,
     "metadata": {},
     "output_type": "execute_result"
    }
   ],
   "source": [
    "#Reorder features for convenience\n",
    "data = rec[['Score','Opp_range','Pos', 'Tgt','aDOT','Yds']]\n",
    "\n",
    "#ready for processing\n",
    "X=data[['Opp_range','Pos', 'Tgt','aDOT','Yds']]  #features\n",
    "#X=np.c_[X,X.values[:,0]*X.values[:,1]]\n",
    "y=data['Score']  #label\n",
    "data.tail(10)"
   ]
  },
  {
   "cell_type": "code",
   "execution_count": 60,
   "metadata": {
    "collapsed": false
   },
   "outputs": [
    {
     "data": {
      "image/png": "[encoded data removed]",
      "text/plain": [
       "<matplotlib.figure.Figure at 0x27ff8c654e0>"
      ]
     },
     "metadata": {},
     "output_type": "display_data"
    }
   ],
   "source": [
    "#skill positional scoring less about matchup and more about volume\n",
    "\n",
    "f,ax = plt.subplots(figsize=(10,10))\n",
    "corr = data.corr()\n",
    "cmap = sns.diverging_palette(150,275, as_cmap=True)\n",
    "sns.heatmap(corr,cmap=cmap, square=True,annot=True)\n",
    "plt.show()"
   ]
  },
  {
   "cell_type": "code",
   "execution_count": null,
   "metadata": {
    "collapsed": true
   },
   "outputs": [],
   "source": [
    "#how predictive are receivers fantasy output relative to TE in terms of mkt share, etc.\n",
    "#use groupby week and filter for target threshold in relation to fantasy output rank\n",
    "#examine fantasy output rank in relation to TD for week - how big is impact of TD on fantasy output rank\n",
    "#examine variation in volume by position\n",
    "#examine significance of snaps for TE\n",
    "#filter volume for TE by week\n",
    "#filter TD scored relative to volume by week for each position\n",
    "#examine avg volume per week by position\n",
    "#examine weekly production of >25 touches for rb"
   ]
  },
  {
   "cell_type": "code",
   "execution_count": 64,
   "metadata": {
    "collapsed": false
   },
   "outputs": [
    {
     "name": "stdout",
     "output_type": "stream",
     "text": [
      "2916\n",
      "729\n",
      "2916\n",
      "729\n"
     ]
    }
   ],
   "source": [
    "#split into train and test sets\n",
    "\n",
    "X_train, X_test, y_train, y_test = train_test_split(X,y,test_size=0.2, random_state=0)\n",
    "print(len(X_train))\n",
    "print(len(X_test))\n",
    "print(len(y_train))\n",
    "print(len(y_test))"
   ]
  },
  {
   "cell_type": "code",
   "execution_count": 65,
   "metadata": {
    "collapsed": false
   },
   "outputs": [
    {
     "data": {
      "text/html": [
       "<div>\n",
       "<style>\n",
       "    .dataframe thead tr:only-child th {\n",
       "        text-align: right;\n",
       "    }\n",
       "\n",
       "    .dataframe thead th {\n",
       "        text-align: left;\n",
       "    }\n",
       "\n",
       "    .dataframe tbody tr th {\n",
       "        vertical-align: top;\n",
       "    }\n",
       "</style>\n",
       "<table border=\"1\" class=\"dataframe\">\n",
       "  <thead>\n",
       "    <tr style=\"text-align: right;\">\n",
       "      <th></th>\n",
       "      <th>Acc</th>\n",
       "      <th>Std</th>\n",
       "    </tr>\n",
       "  </thead>\n",
       "  <tbody>\n",
       "    <tr>\n",
       "      <th>Linear Svm</th>\n",
       "      <td>0.812072</td>\n",
       "      <td>0.000357</td>\n",
       "    </tr>\n",
       "    <tr>\n",
       "      <th>Radial Svm</th>\n",
       "      <td>0.802471</td>\n",
       "      <td>0.006829</td>\n",
       "    </tr>\n",
       "    <tr>\n",
       "      <th>Logistic Regression</th>\n",
       "      <td>0.817900</td>\n",
       "      <td>0.005283</td>\n",
       "    </tr>\n",
       "    <tr>\n",
       "      <th>KNN</th>\n",
       "      <td>0.790465</td>\n",
       "      <td>0.007652</td>\n",
       "    </tr>\n",
       "    <tr>\n",
       "      <th>Decision Tree</th>\n",
       "      <td>0.735259</td>\n",
       "      <td>0.007456</td>\n",
       "    </tr>\n",
       "    <tr>\n",
       "      <th>Naive Bayes</th>\n",
       "      <td>0.797319</td>\n",
       "      <td>0.009808</td>\n",
       "    </tr>\n",
       "    <tr>\n",
       "      <th>Random Forest</th>\n",
       "      <td>0.789102</td>\n",
       "      <td>0.008352</td>\n",
       "    </tr>\n",
       "  </tbody>\n",
       "</table>\n",
       "</div>"
      ],
      "text/plain": [
       "                          Acc       Std\n",
       "Linear Svm           0.812072  0.000357\n",
       "Radial Svm           0.802471  0.006829\n",
       "Logistic Regression  0.817900  0.005283\n",
       "KNN                  0.790465  0.007652\n",
       "Decision Tree        0.735259  0.007456\n",
       "Naive Bayes          0.797319  0.009808\n",
       "Random Forest        0.789102  0.008352"
      ]
     },
     "execution_count": 65,
     "metadata": {},
     "output_type": "execute_result"
    }
   ],
   "source": [
    "#train model using accuracy as evaluation metric\n",
    "\n",
    "accuracy_train=[]\n",
    "std_dev=[]\n",
    "classifiers=['Linear Svm','Radial Svm','Logistic Regression','KNN','Decision Tree','Naive Bayes','Random Forest']\n",
    "m=[svm.SVC(kernel='linear'),svm.SVC(kernel='rbf'),LogisticRegression(),KNeighborsClassifier(),\n",
    "   DecisionTreeClassifier(),GaussianNB(),RandomForestClassifier()]\n",
    "\n",
    "for i in m:\n",
    "    score = cross_val_score(i, X_train, y_train, cv=3, scoring='accuracy')\n",
    "    accuracy_train.append(score.mean())\n",
    "    std_dev.append(score.std())\n",
    "mods = pd.DataFrame({'Acc': acc_results, 'Std': std_results}, index=classifiers)\n",
    "mods\n",
    "\n",
    "#little variation wrt accuracy for models likely due to skew of dataset towards non-scoring outcomes ~80% of dataset"
   ]
  },
  {
   "cell_type": "code",
   "execution_count": 66,
   "metadata": {
    "collapsed": false
   },
   "outputs": [
    {
     "data": {
      "image/png": "[encoded data removed]",
      "text/plain": [
       "<matplotlib.figure.Figure at 0x27ff8b00e48>"
      ]
     },
     "metadata": {},
     "output_type": "display_data"
    }
   ],
   "source": [
    "#train model using f1 score as evaluation metric\n",
    "#visual of confusion matrix for each classifier\n",
    "\n",
    "f,ax=plt.subplots(2,4,figsize=(13,7))\n",
    "pred = cross_val_predict(svm.SVC(kernel='rbf'),X_train,y_train,cv=3)\n",
    "sns.heatmap(metrics.confusion_matrix(y_train,pred),ax=ax[0,0],annot=True,fmt='2.0f')\n",
    "ax[0,0].set_title('Matrix for rbf-SVM')\n",
    "pred = cross_val_predict(svm.SVC(kernel='linear'),X_train,y_train,cv=3)\n",
    "sns.heatmap(metrics.confusion_matrix(y_train,pred),ax=ax[0,1],annot=True,fmt='2.0f')\n",
    "ax[0,1].set_title('Matrix for Linear-SVM')\n",
    "pred = cross_val_predict(KNeighborsClassifier(),X_train,y_train,cv=3)\n",
    "sns.heatmap(metrics.confusion_matrix(y_train,pred),ax=ax[0,2],annot=True,fmt='2.0f')\n",
    "ax[0,2].set_title('Matrix for KNN')\n",
    "pred = cross_val_predict(RandomForestClassifier(),X_train,y_train,cv=3)\n",
    "sns.heatmap(metrics.confusion_matrix(y_train,pred),ax=ax[0,3],annot=True,fmt='2.0f')\n",
    "ax[0,3].set_title('Matrix for Random-Forests')\n",
    "pred = cross_val_predict(LogisticRegression(),X_train,y_train,cv=3)\n",
    "sns.heatmap(metrics.confusion_matrix(y_train,pred),ax=ax[1,0],annot=True,fmt='2.0f')\n",
    "ax[1,0].set_title('Matrix for Logistic Regression')\n",
    "pred = cross_val_predict(DecisionTreeClassifier(),X_train,y_train,cv=3)\n",
    "sns.heatmap(metrics.confusion_matrix(y_train,pred),ax=ax[1,1],annot=True,fmt='2.0f')\n",
    "ax[1,1].set_title('Matrix for Decision Tree')\n",
    "pred = cross_val_predict(GaussianNB(),X_train,y_train,cv=3)\n",
    "sns.heatmap(metrics.confusion_matrix(y_train,pred),ax=ax[1,2],annot=True,fmt='2.0f')\n",
    "ax[1,2].set_title('Matrix for Naive Bayes')\n",
    "plt.subplots_adjust(hspace=0.2,wspace=0.2)\n",
    "plt.show()"
   ]
  },
  {
   "cell_type": "code",
   "execution_count": 67,
   "metadata": {
    "collapsed": false
   },
   "outputs": [
    {
     "name": "stderr",
     "output_type": "stream",
     "text": [
      "C:\\Users\\bryho\\Anaconda3\\lib\\site-packages\\sklearn\\metrics\\classification.py:1135: UndefinedMetricWarning: F-score is ill-defined and being set to 0.0 due to no predicted samples.\n",
      "  'precision', 'predicted', average, warn_for)\n"
     ]
    },
    {
     "data": {
      "text/html": [
       "<div>\n",
       "<style>\n",
       "    .dataframe thead tr:only-child th {\n",
       "        text-align: right;\n",
       "    }\n",
       "\n",
       "    .dataframe thead th {\n",
       "        text-align: left;\n",
       "    }\n",
       "\n",
       "    .dataframe tbody tr th {\n",
       "        vertical-align: top;\n",
       "    }\n",
       "</style>\n",
       "<table border=\"1\" class=\"dataframe\">\n",
       "  <thead>\n",
       "    <tr style=\"text-align: right;\">\n",
       "      <th></th>\n",
       "      <th>F</th>\n",
       "      <th>Models</th>\n",
       "    </tr>\n",
       "  </thead>\n",
       "  <tbody>\n",
       "    <tr>\n",
       "      <th>0</th>\n",
       "      <td>0.000000</td>\n",
       "      <td>Linear Svm</td>\n",
       "    </tr>\n",
       "    <tr>\n",
       "      <th>1</th>\n",
       "      <td>0.056951</td>\n",
       "      <td>Radial Svm</td>\n",
       "    </tr>\n",
       "    <tr>\n",
       "      <th>2</th>\n",
       "      <td>0.261111</td>\n",
       "      <td>Logistic Regression</td>\n",
       "    </tr>\n",
       "    <tr>\n",
       "      <th>3</th>\n",
       "      <td>0.273939</td>\n",
       "      <td>KNN</td>\n",
       "    </tr>\n",
       "    <tr>\n",
       "      <th>4</th>\n",
       "      <td>0.291367</td>\n",
       "      <td>Decision Tree</td>\n",
       "    </tr>\n",
       "    <tr>\n",
       "      <th>5</th>\n",
       "      <td>0.410410</td>\n",
       "      <td>Naive Bayes</td>\n",
       "    </tr>\n",
       "    <tr>\n",
       "      <th>6</th>\n",
       "      <td>0.257179</td>\n",
       "      <td>Random Forest</td>\n",
       "    </tr>\n",
       "  </tbody>\n",
       "</table>\n",
       "</div>"
      ],
      "text/plain": [
       "          F               Models\n",
       "0  0.000000           Linear Svm\n",
       "1  0.056951           Radial Svm\n",
       "2  0.261111  Logistic Regression\n",
       "3  0.273939                  KNN\n",
       "4  0.291367        Decision Tree\n",
       "5  0.410410          Naive Bayes\n",
       "6  0.257179        Random Forest"
      ]
     },
     "execution_count": 67,
     "metadata": {},
     "output_type": "execute_result"
    }
   ],
   "source": [
    "#f-scores for training set\n",
    "\n",
    "f_scores=[]\n",
    "classifiers=['Linear Svm','Radial Svm','Logistic Regression','KNN','Decision Tree','Naive Bayes','Random Forest']\n",
    "m=[svm.SVC(kernel='linear'),svm.SVC(kernel='rbf'),LogisticRegression(),KNeighborsClassifier(),\n",
    "   DecisionTreeClassifier(),GaussianNB(),RandomForestClassifier()]\n",
    "\n",
    "for i in m:\n",
    "    pred = cross_val_predict(i, X_train, y_train, cv=3)\n",
    "    f_scores.append(metrics.f1_score(y_train, pred))\n",
    "f_ones = pd.DataFrame({'Models': classifiers ,'F': f_scores})\n",
    "f_ones"
   ]
  },
  {
   "cell_type": "code",
   "execution_count": 68,
   "metadata": {
    "collapsed": false
   },
   "outputs": [
    {
     "data": {
      "image/png": "[encoded data removed]",
      "text/plain": [
       "<matplotlib.figure.Figure at 0x27ff8b49208>"
      ]
     },
     "metadata": {},
     "output_type": "display_data"
    }
   ],
   "source": [
    "f,ax=plt.subplots(figsize=(12,5))\n",
    "sns.barplot('Models', 'F', data=f_ones, ci=None)\n",
    "ax.set_title('F1 Scores')\n",
    "plt.show()"
   ]
  },
  {
   "cell_type": "code",
   "execution_count": 70,
   "metadata": {
    "collapsed": true
   },
   "outputs": [],
   "source": [
    "#hyperparameter tuning and test set evaluation\n",
    "\n",
    "accuracy = []\n",
    "f1_scores = []\n",
    "models = []\n",
    "accuracy.append(0.33)\n",
    "f1_scores.append(0.33)\n",
    "models.append('Baseline')"
   ]
  },
  {
   "cell_type": "code",
   "execution_count": 71,
   "metadata": {
    "collapsed": false
   },
   "outputs": [
    {
     "name": "stdout",
     "output_type": "stream",
     "text": [
      "Logistic Regression accuracy:  0.831275720165\n",
      "Logistic Regression f1-score:  0.28901734104\n"
     ]
    }
   ],
   "source": [
    "#logistic reg\n",
    "\n",
    "model = LogisticRegression()\n",
    "model.fit(X_train, y_train)\n",
    "p1 = model.predict(X_test)\n",
    "print('Logistic Regression accuracy: ', metrics.accuracy_score(p1, y_test))\n",
    "print('Logistic Regression f1-score: ', metrics.f1_score(y_test, p1))"
   ]
  },
  {
   "cell_type": "code",
   "execution_count": 72,
   "metadata": {
    "collapsed": true
   },
   "outputs": [],
   "source": [
    "accuracy.append(0.811197916667)\n",
    "f1_scores.append(metrics.f1_score(y_test, p1))\n",
    "models.append('LR')"
   ]
  },
  {
   "cell_type": "code",
   "execution_count": null,
   "metadata": {
    "collapsed": false
   },
   "outputs": [],
   "source": [
    "#SVM hyperparameter tuning\n",
    "Cs = [0.01 ,0.1, 0.25, 1, 5, 7, 10]\n",
    "gammas = [0.01, 0.1, 0.25, 0.5, 0.75, 1]\n",
    "kernels = ['linear', 'rbf']\n",
    "param_grid = {'C': Cs, 'gamma': gammas, 'kernel': kernels}\n",
    "grid_search = GridSearchCV(svm.SVC(), param_grid, cv=3)\n",
    "grid_search.fit(X,y)\n",
    "print(grid_search.best_params_)"
   ]
  },
  {
   "cell_type": "code",
   "execution_count": 23,
   "metadata": {
    "collapsed": false
   },
   "outputs": [
    {
     "name": "stdout",
     "output_type": "stream",
     "text": [
      "RBF SVM accuracy:  0.807291666667\n"
     ]
    }
   ],
   "source": [
    "#rbf svm\n",
    "model = svm.SVC(kernel='rbf', C=5, gamma=0.1)\n",
    "model.fit(X_train, y_train)\n",
    "p2 = model.predict(X_test)\n",
    "print('RBF SVM accuracy: ', metrics.accuracy_score(p2, y_test))\n",
    "print('RBF SVM f1-score: ', metrics.f1_score(y_test, p2))"
   ]
  },
  {
   "cell_type": "code",
   "execution_count": 29,
   "metadata": {
    "collapsed": true
   },
   "outputs": [],
   "source": [
    "accuracy.append(0.807291666667)\n",
    "f1_scores.append(metrics.f1_score(y_test, p2))\n",
    "models.append('RBF-SVM')"
   ]
  },
  {
   "cell_type": "code",
   "execution_count": 39,
   "metadata": {
    "collapsed": false
   },
   "outputs": [
    {
     "name": "stdout",
     "output_type": "stream",
     "text": [
      "{'max_depth': 4}\n"
     ]
    }
   ],
   "source": [
    "#Decision Tree hyperparameter tuning\n",
    "model = DecisionTreeClassifier()\n",
    "depth = [2, 4, 6, 8, 10]\n",
    "param_grid = {\"max_depth\": depth}\n",
    "grid_search = GridSearchCV(model, param_grid, cv=3)\n",
    "grid_search.fit(X,y)\n",
    "print(grid_search.best_params_)"
   ]
  },
  {
   "cell_type": "code",
   "execution_count": 25,
   "metadata": {
    "collapsed": false
   },
   "outputs": [
    {
     "name": "stdout",
     "output_type": "stream",
     "text": [
      "Decision Tree Classifier:  0.791666666667\n"
     ]
    }
   ],
   "source": [
    "#decision tree\n",
    "model = DecisionTreeClassifier(max_depth=4)\n",
    "model.fit(X_train, y_train)\n",
    "p3 = model.predict(X_test)\n",
    "print('Decision Tree accuracy: ', metrics.accuracy_score(p3, y_test))\n",
    "print('Decision Tree f1-score: ', metrics.f1_score(y_test, p3))"
   ]
  },
  {
   "cell_type": "code",
   "execution_count": 30,
   "metadata": {
    "collapsed": true
   },
   "outputs": [],
   "source": [
    "accuracy.append(0.791666666667)\n",
    "f1_scores.append(metrics.f1_score(y_test, p3))\n",
    "models.append('Decision Tree')"
   ]
  },
  {
   "cell_type": "code",
   "execution_count": 17,
   "metadata": {
    "collapsed": false
   },
   "outputs": [
    {
     "name": "stdout",
     "output_type": "stream",
     "text": [
      "{'n_neighbors': 10}\n"
     ]
    }
   ],
   "source": [
    "#knn hyperparameter tuning\n",
    "model = KNeighborsClassifier()\n",
    "neighbors = list(range(1,21,1))\n",
    "param_grid = {\"n_neighbors\": neighbors}\n",
    "grid_search = GridSearchCV(model, param_grid, cv=3)\n",
    "grid_search.fit(X,y)\n",
    "print(grid_search.best_params_)"
   ]
  },
  {
   "cell_type": "code",
   "execution_count": 31,
   "metadata": {
    "collapsed": false
   },
   "outputs": [
    {
     "name": "stdout",
     "output_type": "stream",
     "text": [
      "KNeighbors Classifier:  0.802083333333\n"
     ]
    }
   ],
   "source": [
    "#knn\n",
    "\n",
    "model = KNeighborsClassifier(n_neighbors=10)\n",
    "model.fit(X_train, y_train)\n",
    "p4 = model.predict(X_test)\n",
    "print('KNeighbors accuracy: ', metrics.accuracy_score(p4, y_test))\n",
    "print('KNeighbors f1-score: ', metrics.f1_score(y_test, p4))"
   ]
  },
  {
   "cell_type": "code",
   "execution_count": 32,
   "metadata": {
    "collapsed": true
   },
   "outputs": [],
   "source": [
    "accuracy.append(0.802083333333)\n",
    "f1_scores.append(metrics.f1_score(y_test, p4))\n",
    "models.append('KNN')"
   ]
  },
  {
   "cell_type": "code",
   "execution_count": 91,
   "metadata": {
    "collapsed": false
   },
   "outputs": [
    {
     "name": "stdout",
     "output_type": "stream",
     "text": [
      "GaussianNB:  0.813443072702\n"
     ]
    }
   ],
   "source": [
    "#naive bayes\n",
    "\n",
    "model = GaussianNB()\n",
    "model.fit(X_train, y_train)\n",
    "p5 = model.predict(X_test)\n",
    "print('GaussianNB accuracy: ', metrics.accuracy_score(p5, y_test))\n",
    "print('GaussianNB f1-score: ', metrics.f1_score(y_test, p5))"
   ]
  },
  {
   "cell_type": "code",
   "execution_count": 33,
   "metadata": {
    "collapsed": true
   },
   "outputs": [],
   "source": [
    "accuracy.append(0.813443072702)\n",
    "f1_scores.append(metrics.f1_score(y_test, p5))\n",
    "models.append('GaussianNB')"
   ]
  },
  {
   "cell_type": "code",
   "execution_count": 93,
   "metadata": {
    "collapsed": false
   },
   "outputs": [
    {
     "name": "stdout",
     "output_type": "stream",
     "text": [
      "Random Forest Classifier:  0.810699588477\n"
     ]
    }
   ],
   "source": [
    "#random forest\n",
    "\n",
    "model = RandomForestClassifier()\n",
    "model.fit(X_train, y_train)\n",
    "p6 = model.predict(X_test)\n",
    "print('Random Forest accuracy: ', metrics.accuracy_score(p6, y_test))\n",
    "print('Random Forest f1-score: ', metrics.f1_score(y_test, p6))"
   ]
  },
  {
   "cell_type": "code",
   "execution_count": 34,
   "metadata": {
    "collapsed": true
   },
   "outputs": [],
   "source": [
    "accuracy.append(0.810699588477)\n",
    "f1_scores.append(metrics.f1_score(y_test, p6))\n",
    "models.append('Random Forest')"
   ]
  },
  {
   "cell_type": "code",
   "execution_count": 39,
   "metadata": {
    "collapsed": false
   },
   "outputs": [],
   "source": [
    "ml_acc_results = pd.DataFrame({'Models': models, 'Results': accuracy})\n",
    "ml_f1_results = pd.DataFrame({'Models': models, 'Results': f1_scores})"
   ]
  },
  {
   "cell_type": "code",
   "execution_count": 44,
   "metadata": {
    "collapsed": false
   },
   "outputs": [
    {
     "name": "stdout",
     "output_type": "stream",
     "text": [
      "['Baseline', 'LR', 'RBF-SVM', 'Decision Tree', 'KNN', 'GaussianNB', 'Random Forest', 'Voting', 'AdaBoost']\n",
      "[0.33, 0.811197916667, 0.807291666667, 0.791666666667, 0.802083333333, 0.813443072702, 0.810699588477, 0.816186556927, 0.823593964335]\n"
     ]
    }
   ],
   "source": [
    "print(models)\n",
    "print(accuracy)\n",
    "print(f1_scores)"
   ]
  },
  {
   "cell_type": "code",
   "execution_count": 43,
   "metadata": {
    "collapsed": false
   },
   "outputs": [
    {
     "data": {
      "image/png": "[encoded data removed]",
      "text/plain": [
       "<matplotlib.figure.Figure at 0x20eef5b1208>"
      ]
     },
     "metadata": {},
     "output_type": "display_data"
    }
   ],
   "source": [
    "f,ax=plt.subplots(figsize=(12,5))\n",
    "sns.barplot('Models','Results', data=ml_acc_results, ci=None)\n",
    "ax.set_title('Test Set Accuracy')\n",
    "plt.show()"
   ]
  },
  {
   "cell_type": "code",
   "execution_count": null,
   "metadata": {
    "collapsed": true
   },
   "outputs": [],
   "source": [
    "f,ax=plt.subplots(figsize=(12,5))\n",
    "sns.barplot('Models','Results', data=ml_f1_results, ci=None)\n",
    "ax.set_title('Test Set F1 Scores')\n",
    "plt.show()"
   ]
  }
 ],
 "metadata": {
  "kernelspec": {
   "display_name": "Python 3",
   "language": "python",
   "name": "python3"
  },
  "language_info": {
   "codemirror_mode": {
    "name": "ipython",
    "version": 3
   },
   "file_extension": ".py",
   "mimetype": "text/x-python",
   "name": "python",
   "nbconvert_exporter": "python",
   "pygments_lexer": "ipython3",
   "version": "3.6.0"
  }
 },
 "nbformat": 4,
 "nbformat_minor": 2
}
